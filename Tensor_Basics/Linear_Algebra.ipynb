{
 "cells": [
  {
   "cell_type": "code",
   "execution_count": 76,
   "metadata": {},
   "outputs": [],
   "source": [
    "import tensorflow as tf\n",
    "import numpy as np"
   ]
  },
  {
   "cell_type": "markdown",
   "metadata": {},
   "source": [
    "### Matrix Multiplication"
   ]
  },
  {
   "cell_type": "code",
   "execution_count": 77,
   "metadata": {},
   "outputs": [
    {
     "name": "stdout",
     "output_type": "stream",
     "text": [
      "(2, 3) (3, 3)\n"
     ]
    },
    {
     "data": {
      "text/plain": [
       "<tf.Tensor: shape=(2, 3), dtype=int32, numpy=\n",
       "array([[ 46,  52,  58],\n",
       "       [ 88, 100, 112]])>"
      ]
     },
     "execution_count": 77,
     "metadata": {},
     "output_type": "execute_result"
    }
   ],
   "source": [
    "a = tf.constant([[1, 2, 3], [3, 4, 5]])\n",
    "b = tf.constant([[5, 6, 7], [7, 8, 9], [9, 10, 11]])\n",
    "\n",
    "print(a.shape, b.shape)\n",
    "\n",
    "tf.linalg.matmul(\n",
    "    a, b, transpose_a=False, transpose_b=False, adjoint_a=False, adjoint_b=False, a_is_sparse=False, b_is_sparse=False, output_type=None, name=None\n",
    ")"
   ]
  },
  {
   "cell_type": "code",
   "execution_count": 78,
   "metadata": {},
   "outputs": [
    {
     "name": "stdout",
     "output_type": "stream",
     "text": [
      "tf.Tensor(\n",
      "[[ 46  52  58]\n",
      " [ 88 100 112]], shape=(2, 3), dtype=int32)\n"
     ]
    }
   ],
   "source": [
    "# Perform element wise multiplication using the '*' operator\n",
    "# Perform matrix multiplication using the '@' operator\n",
    "\n",
    "print(a @ b)"
   ]
  },
  {
   "cell_type": "markdown",
   "metadata": {},
   "source": [
    "### Matrix Transpose"
   ]
  },
  {
   "cell_type": "code",
   "execution_count": 79,
   "metadata": {},
   "outputs": [
    {
     "name": "stdout",
     "output_type": "stream",
     "text": [
      "tf.Tensor(\n",
      "[[1 3]\n",
      " [2 4]\n",
      " [3 5]], shape=(3, 2), dtype=int32)\n",
      "tf.Tensor(\n",
      "[[ 5  7  9]\n",
      " [ 6  8 10]\n",
      " [ 7  9 11]], shape=(3, 3), dtype=int32)\n"
     ]
    }
   ],
   "source": [
    "# transpose of the matrix\n",
    "\n",
    "print(tf.transpose(a))\n",
    "print(tf.transpose(b))"
   ]
  },
  {
   "cell_type": "code",
   "execution_count": 80,
   "metadata": {},
   "outputs": [
    {
     "name": "stdout",
     "output_type": "stream",
     "text": [
      "(1, 3) (3, 4) (2, 4) (4, 3)\n",
      "tf.Tensor(\n",
      "[[ 30  70  29]\n",
      " [ 70 174  89]], shape=(2, 3), dtype=int32)\n"
     ]
    },
    {
     "data": {
      "text/plain": [
       "<tf.Tensor: shape=(2, 3), dtype=int32, numpy=\n",
       "array([[ 30,  70,  29],\n",
       "       [ 70, 174,  89]])>"
      ]
     },
     "execution_count": 80,
     "metadata": {},
     "output_type": "execute_result"
    }
   ],
   "source": [
    "a = tf.constant([[1,2,3]])\n",
    "\n",
    "b = tf.constant([[1, 2, 3, 4],\n",
    "                 [5, 6, 7, 8],\n",
    "                 [9, 1, 2, 3]])\n",
    "\n",
    "c = tf.constant([[1, 2, 3, 4],\n",
    "                 [5, 6, 7, 8]])\n",
    "\n",
    "# Perform matrix multiplication of 'c' with the transpose of 'b'\n",
    "print(a.shape, b.shape, c.shape, tf.transpose(b).shape)\n",
    "\n",
    "print(c @ tf.transpose(b))\n",
    "tf.linalg.matmul(\n",
    "    c, b, transpose_a=False, transpose_b=True, adjoint_a=False, adjoint_b=False, a_is_sparse=False, b_is_sparse=False, output_type=None, name=None\n",
    ")"
   ]
  },
  {
   "cell_type": "code",
   "execution_count": 81,
   "metadata": {},
   "outputs": [
    {
     "name": "stdout",
     "output_type": "stream",
     "text": [
      "(1, 3) (3, 2) (2, 4) (2, 3)\n",
      "tf.Tensor(\n",
      "[[11 35 14]\n",
      " [14 46 24]\n",
      " [17 57 34]\n",
      " [20 68 44]], shape=(4, 3), dtype=int32)\n"
     ]
    },
    {
     "data": {
      "text/plain": [
       "<tf.Tensor: shape=(4, 3), dtype=int32, numpy=\n",
       "array([[11, 35, 14],\n",
       "       [14, 46, 24],\n",
       "       [17, 57, 34],\n",
       "       [20, 68, 44]])>"
      ]
     },
     "execution_count": 81,
     "metadata": {},
     "output_type": "execute_result"
    }
   ],
   "source": [
    "a = tf.constant([[1,2,3]])\n",
    "\n",
    "b = tf.constant([[1, 2],\n",
    "                 [5, 6],\n",
    "                 [9, 1]])\n",
    "\n",
    "c = tf.constant([[1, 2, 3, 4],\n",
    "                 [5, 6, 7, 8]])\n",
    "\n",
    "print(a.shape, b.shape, c.shape, tf.transpose(b).shape)\n",
    "\n",
    "# Perform matrix multiplication of 'c' with the transpose of 'b'\n",
    "print(tf.transpose(c) @ tf.transpose(b))\n",
    "\n",
    "tf.linalg.matmul(\n",
    "    c, b, transpose_a=True, transpose_b=True, adjoint_a=False, adjoint_b=False, a_is_sparse=False, b_is_sparse=False, output_type=None, name=None\n",
    ")"
   ]
  },
  {
   "cell_type": "markdown",
   "metadata": {},
   "source": [
    "### Adjoining Matrix"
   ]
  },
  {
   "cell_type": "code",
   "execution_count": 82,
   "metadata": {},
   "outputs": [
    {
     "name": "stdout",
     "output_type": "stream",
     "text": [
      "tf.Tensor(\n",
      "[[ 9 12 15]\n",
      " [24 33 42]], shape=(2, 3), dtype=int32)\n"
     ]
    }
   ],
   "source": [
    "a = tf.constant([[1,2],\n",
    "                  [4,5]])\n",
    "\n",
    "b = tf.constant([[1,2,3],\n",
    "                  [4,5,6]])\n",
    "\n",
    "print(tf.linalg.matmul(a, b))"
   ]
  },
  {
   "cell_type": "code",
   "execution_count": 83,
   "metadata": {},
   "outputs": [
    {
     "name": "stdout",
     "output_type": "stream",
     "text": [
      "tf.Tensor(\n",
      "[[4 2]\n",
      " [7 6]], shape=(2, 2), dtype=int32)\n"
     ]
    }
   ],
   "source": [
    "A = tf.constant([[4, 7],\n",
    "                 [2, 6]])\n",
    "\n",
    "# Compute the adjoint (which is the conjugate transpose for complex numbers)\n",
    "adjoint_A = tf.linalg.adjoint(A)\n",
    "\n",
    "print(adjoint_A)\n"
   ]
  },
  {
   "cell_type": "code",
   "execution_count": 84,
   "metadata": {},
   "outputs": [
    {
     "name": "stdout",
     "output_type": "stream",
     "text": [
      "tf.Tensor(\n",
      "[[0 1 1]\n",
      " [1 0 1]\n",
      " [1 1 0]], shape=(3, 3), dtype=int32)\n",
      "tf.Tensor(\n",
      "[[0 1 1]\n",
      " [1 0 1]\n",
      " [1 1 0]], shape=(3, 3), dtype=int32)\n",
      "Matrix Multiplication Result:\n",
      "[[2 1 1]\n",
      " [1 2 1]\n",
      " [1 1 2]]\n"
     ]
    }
   ],
   "source": [
    "# Create a 3x3 adjacency matrix\n",
    "a = tf.constant([[0, 1, 1],\n",
    "                [1, 0, 1],\n",
    "                [1, 1, 0]])\n",
    "\n",
    "# Print the adjacency matrix\n",
    "print(a)\n",
    "\n",
    "adjoint_A = tf.linalg.adjoint(a)\n",
    "\n",
    "print(adjoint_A)\n",
    "\n",
    "# Example of using the adjacency matrix in a simple TensorFlow operation\n",
    "# For instance, performing matrix multiplication\n",
    "result = tf.matmul(a, a)\n",
    "print(\"Matrix Multiplication Result:\")\n",
    "print(result.numpy())\n"
   ]
  },
  {
   "cell_type": "markdown",
   "metadata": {},
   "source": [
    "### extracts the lower or upper triangular part of a matrix"
   ]
  },
  {
   "cell_type": "code",
   "execution_count": 85,
   "metadata": {},
   "outputs": [
    {
     "name": "stdout",
     "output_type": "stream",
     "text": [
      "Original Matrix:\n",
      "[[ 1  2  3  4]\n",
      " [ 5  6  7  8]\n",
      " [ 9 10 11 12]\n",
      " [13 14 15 16]]\n",
      "Lower Triangular Part (including main diagonal):\n",
      "[[ 1  0  0  0]\n",
      " [ 5  6  0  0]\n",
      " [ 9 10 11  0]\n",
      " [13 14 15 16]]\n",
      "Upper Triangular Part (including main diagonal):\n",
      "[[ 1  2  3  4]\n",
      " [ 0  6  7  8]\n",
      " [ 0  0 11 12]\n",
      " [ 0  0  0 16]]\n"
     ]
    }
   ],
   "source": [
    "x = tf.constant([\n",
    "    [1, 2, 3, 4],\n",
    "    [5, 6, 7, 8],\n",
    "    [9, 10, 11, 12],\n",
    "    [13, 14, 15, 16]])\n",
    "\n",
    "# Extract the lower triangular part including the main diagonal\n",
    "lower_triangle = tf.linalg.band_part(x, num_lower=3, num_upper=0)\n",
    "\n",
    "# Extract the upper triangular part including the main diagonal\n",
    "upper_triangle = tf.linalg.band_part(x, num_lower=0, num_upper=3)\n",
    "\n",
    "print(\"Original Matrix:\")\n",
    "print(x.numpy())\n",
    "\n",
    "print(\"Lower Triangular Part (including main diagonal):\")\n",
    "print(lower_triangle.numpy())\n",
    "\n",
    "print(\"Upper Triangular Part (including main diagonal):\")\n",
    "print(upper_triangle.numpy())\n"
   ]
  },
  {
   "cell_type": "code",
   "execution_count": 86,
   "metadata": {},
   "outputs": [
    {
     "data": {
      "text/plain": [
       "<tf.Tensor: shape=(4, 4), dtype=float32, numpy=\n",
       "array([[ 1.,  0.,  0.,  0.],\n",
       "       [ 0.,  6.,  0.,  0.],\n",
       "       [ 0.,  0., 11.,  0.],\n",
       "       [ 0.,  0.,  0., 16.]], dtype=float32)>"
      ]
     },
     "execution_count": 86,
     "metadata": {},
     "output_type": "execute_result"
    }
   ],
   "source": [
    "x = tf.constant([\n",
    "    [1, 2, 3, 4],\n",
    "    [5, 6, 7, 8],\n",
    "    [9, 10, 11, 12],\n",
    "    [13, 14, 15, 16]], dtype=tf.float32)\n",
    "\n",
    "# Extract the main diagonal\n",
    "tf.linalg.band_part(x, 0, 0)"
   ]
  },
  {
   "cell_type": "markdown",
   "metadata": {},
   "source": [
    "### Inverse Matrix"
   ]
  },
  {
   "cell_type": "code",
   "execution_count": 87,
   "metadata": {},
   "outputs": [
    {
     "name": "stdout",
     "output_type": "stream",
     "text": [
      "Original Matrix:\n",
      "[[1. 2.]\n",
      " [3. 4.]]\n",
      "\n",
      "Inverse Matrix:\n",
      "[[-2.0000002   1.0000001 ]\n",
      " [ 1.5000001  -0.50000006]]\n"
     ]
    }
   ],
   "source": [
    "x = tf.constant([\n",
    "    [1.0, 2.0],\n",
    "    [3.0, 4.0]\n",
    "], dtype=tf.float32)\n",
    "\n",
    "# Compute the inverse of the matrix\n",
    "inverse_matrix = tf.linalg.inv(x)\n",
    "\n",
    "print(\"Original Matrix:\")\n",
    "print(x.numpy())\n",
    "\n",
    "print(\"\\nInverse Matrix:\")\n",
    "print(inverse_matrix.numpy())\n"
   ]
  },
  {
   "cell_type": "markdown",
   "metadata": {},
   "source": [
    "### Singular Value Decomposition"
   ]
  },
  {
   "cell_type": "code",
   "execution_count": 88,
   "metadata": {},
   "outputs": [
    {
     "name": "stdout",
     "output_type": "stream",
     "text": [
      "tf.Tensor([1.6848103e+01 1.0683696e+00 2.8763120e-07], shape=(3,), dtype=float32)\n",
      "tf.Tensor(\n",
      "[[ 0.21483716  0.8872305  -0.40824857]\n",
      " [ 0.5205872   0.24964423  0.8164965 ]\n",
      " [ 0.8263376  -0.3879429  -0.4082481 ]], shape=(3, 3), dtype=float32)\n",
      "tf.Tensor(\n",
      "[[ 0.47967106 -0.77669096  0.40824836]\n",
      " [ 0.5723676  -0.07568647 -0.81649655]\n",
      " [ 0.6650643   0.62531805  0.40824822]], shape=(3, 3), dtype=float32)\n"
     ]
    }
   ],
   "source": [
    "\n",
    "a = tf.constant([\n",
    "    [1, 2, 3],\n",
    "    [4, 5, 6],\n",
    "    [7, 8, 9]\n",
    "], dtype=tf.float32)\n",
    "\n",
    "# Compute the SVD\n",
    "s, u, v = tf.linalg.svd(a)\n",
    "\n",
    "print(s)\n",
    "print(u)\n",
    "print(v)"
   ]
  },
  {
   "cell_type": "markdown",
   "metadata": {},
   "source": [
    "### Einstein summation notation"
   ]
  },
  {
   "cell_type": "code",
   "execution_count": 89,
   "metadata": {},
   "outputs": [
    {
     "name": "stdout",
     "output_type": "stream",
     "text": [
      "Matrix A:\n",
      "[[1 2 3]\n",
      " [3 4 5]]\n",
      "\n",
      "Matrix B:\n",
      "[[ 5  6  7  8]\n",
      " [ 7  8  9 10]\n",
      " [ 1  2  3  4]]\n",
      "\n",
      "Matrix C (result of A * B):\n",
      "[[22 28 34 40]\n",
      " [48 60 72 84]]\n"
     ]
    }
   ],
   "source": [
    "A = tf.constant([\n",
    "    [1, 2, 3],\n",
    "    [3, 4, 5]])\n",
    "\n",
    "B = tf.constant([\n",
    "    [5, 6, 7, 8],\n",
    "    [7, 8, 9, 10],\n",
    "    [1, 2, 3, 4]])\n",
    "\n",
    "# Matrix multiplication using einsum\n",
    "C = tf.einsum('ij,jk->ik', A, B)\n",
    "\n",
    "print(\"Matrix A:\")\n",
    "print(A.numpy())\n",
    "\n",
    "print(\"\\nMatrix B:\")\n",
    "print(B.numpy())\n",
    "\n",
    "print(\"\\nMatrix C (result of A * B):\")\n",
    "print(C.numpy())"
   ]
  },
  {
   "cell_type": "code",
   "execution_count": 90,
   "metadata": {},
   "outputs": [
    {
     "name": "stdout",
     "output_type": "stream",
     "text": [
      "Tensor:\n",
      "[[1 2 3]\n",
      " [4 5 6]]\n",
      "\n",
      "Sum over axis 0:\n",
      "[5 7 9]\n",
      "\n",
      "Sum over axis 1:\n",
      "[ 6 15]\n"
     ]
    }
   ],
   "source": [
    "tensor = tf.constant([\n",
    "    [1, 2, 3],\n",
    "    [4, 5, 6]])\n",
    "\n",
    "# Sum over axis 0\n",
    "sum_axis_0 = tf.einsum('ij->j', tensor)\n",
    "\n",
    "# Sum over axis 1\n",
    "sum_axis_1 = tf.einsum('ij->i', tensor)\n",
    "\n",
    "print(\"Tensor:\")\n",
    "print(tensor.numpy())\n",
    "\n",
    "print(\"\\nSum over axis 0:\")\n",
    "print(sum_axis_0.numpy())\n",
    "\n",
    "print(\"\\nSum over axis 1:\")\n",
    "print(sum_axis_1.numpy())"
   ]
  },
  {
   "cell_type": "code",
   "execution_count": 91,
   "metadata": {},
   "outputs": [
    {
     "name": "stdout",
     "output_type": "stream",
     "text": [
      "(2, 3, 4) (2, 4, 5)\n",
      "Batch Multiplication C =: \n",
      "\n",
      "[[[ 38  48  58  68  42]\n",
      "  [ 90 116 142 168 122]\n",
      "  [ 38  48  58  68  42]]\n",
      "\n",
      " [[ 38  48  58  68  42]\n",
      "  [ 90 116 142 168 122]\n",
      "  [ 38  48  58  68  42]]] \n",
      "\n",
      "Einsum C =: \n",
      "\n",
      "[[[ 38  48  58  68  42]\n",
      "  [ 90 116 142 168 122]\n",
      "  [ 38  48  58  68  42]]\n",
      "\n",
      " [[ 38  48  58  68  42]\n",
      "  [ 90 116 142 168 122]\n",
      "  [ 38  48  58  68  42]]]\n"
     ]
    }
   ],
   "source": [
    "a = np.array([\n",
    "    [[1,2,3,4],\n",
    "     [5,6,7,8],\n",
    "     [1,2,3,4]],\n",
    "\n",
    "    [[1,2,3,4],\n",
    "     [5,6,7,8],\n",
    "     [1,2,3,4]]])\n",
    "\n",
    "b = np.array([\n",
    "    [[1,2,3,4,5],\n",
    "     [5,6,7,8,9],\n",
    "     [1,2,3,4,5],\n",
    "     [6,7,8,9,1]],\n",
    "\n",
    "     [[1,2,3,4,5],\n",
    "     [5,6,7,8,9],\n",
    "     [1,2,3,4,5],\n",
    "     [6,7,8,9,1]]])\n",
    "\n",
    "print(a.shape, b.shape)\n",
    "\n",
    "# Perform batch matrix multiplication\n",
    "print(\"Batch Multiplication C =: \\n\")\n",
    "\n",
    "# Here, `a` has shape (2, 3, 4) and `b` has shape (2, 4, 5)\n",
    "# We perform batch matrix multiplication on these two arrays\n",
    "print(np.matmul(a, b), \"\\n\")\n",
    "\n",
    "\n",
    "# Perform the same operation using einsum\n",
    "print(\"Einsum C =: \\n\")\n",
    "\n",
    "# Corrected einsum notation for batch matrix multiplication\n",
    "print(np.einsum('bij,bjk->bik', a, b))"
   ]
  },
  {
   "cell_type": "code",
   "execution_count": 92,
   "metadata": {},
   "outputs": [
    {
     "name": "stdout",
     "output_type": "stream",
     "text": [
      "Sum A =: \n",
      "\n",
      "92 \n",
      "\n",
      "Einsum A =: \n",
      "\n",
      "92\n"
     ]
    }
   ],
   "source": [
    "a = np.array([\n",
    "    [[1,2,3,4],\n",
    "     [5,6,7,8],\n",
    "     [1,2,3,4]],\n",
    "\n",
    "    [[1,2,3,4],\n",
    "     [5,6,7,8],\n",
    "     [1,2,3,4]]])\n",
    "\n",
    "print(\"Sum A =: \\n\")\n",
    "print(np.sum(a), \"\\n\")\n",
    "\n",
    "print(\"Einsum A =: \\n\")\n",
    "\n",
    "print(np.einsum('bij->', a))"
   ]
  },
  {
   "cell_type": "code",
   "execution_count": 93,
   "metadata": {},
   "outputs": [
    {
     "name": "stdout",
     "output_type": "stream",
     "text": [
      "Einsum A =: \n",
      "\n",
      "[ 7 10 13 16]\n",
      "Einsum A =: \n",
      "\n",
      "[10 26 10]\n"
     ]
    }
   ],
   "source": [
    "a = np.array([\n",
    "    [1,2,3,4],\n",
    "    [5,6,7,8],\n",
    "    [1,2,3,4]])\n",
    "\n",
    "# Use einsum to sum over the rows\n",
    "print(\"Einsum A =: \\n\")\n",
    "print(np.einsum('ij -> j', a))\n",
    "\n",
    "print(\"Einsum A =: \\n\")\n",
    "print(np.einsum('ij->i', a))"
   ]
  },
  {
   "cell_type": "code",
   "execution_count": 101,
   "metadata": {},
   "outputs": [
    {
     "data": {
      "text/plain": [
       "(32, 64, 128)"
      ]
     },
     "execution_count": 101,
     "metadata": {},
     "output_type": "execute_result"
    }
   ],
   "source": [
    "\n",
    "# Define Q and K with random values\n",
    "Q = np.random.randn(32, 64, 512)   # Q = batchsize, s_q, modelsize\n",
    "K = np.random.randn(32, 128, 512)   # K = batchsize, s_k, modelsize\n",
    "\n",
    "# Perform the dot product along the model size dimension\n",
    "# `Q` has shape (32, 64, 512), `K` has shape (32, 128, 512)\n",
    "# We want to get a result with shape (32, 64, 128)\n",
    "# This means summing over the last dimension of Q and K\n",
    "np.einsum(\"bqm,bkm -> bqk\", Q,K).shape"
   ]
  },
  {
   "cell_type": "code",
   "execution_count": 104,
   "metadata": {},
   "outputs": [
    {
     "data": {
      "text/plain": [
       "array([[[[-1.29471159e+00,  9.86146110e-01]],\n",
       "\n",
       "        [[-3.44193876e+00,  1.70594760e+00]],\n",
       "\n",
       "        [[-8.80201954e-01,  2.40934173e+00]],\n",
       "\n",
       "        [[-2.29238823e-03,  3.99693184e+00]]],\n",
       "\n",
       "\n",
       "       [[[-4.39973626e-01,  8.21673616e-01]],\n",
       "\n",
       "        [[ 9.18480674e-01,  1.51651809e+00]],\n",
       "\n",
       "        [[ 1.13760022e+00, -7.49540541e-01]],\n",
       "\n",
       "        [[ 9.50030307e-01, -6.46944859e-02]]]])"
      ]
     },
     "execution_count": 104,
     "metadata": {},
     "output_type": "execute_result"
    }
   ],
   "source": [
    "A = np.random.randn(2,4,4,2)  #bcij\n",
    "B = np.random.randn(2,4,4,1)  #bcik\n",
    "\n",
    "np.einsum(\"bcik,bcij -> bckj\", B, A).shape\n",
    "np.einsum(\"bcik,bcij -> bckj\", B, A)"
   ]
  },
  {
   "cell_type": "code",
   "execution_count": 105,
   "metadata": {},
   "outputs": [
    {
     "data": {
      "text/plain": [
       "array([[[[-1.29471159e+00,  9.86146110e-01]],\n",
       "\n",
       "        [[-3.44193876e+00,  1.70594760e+00]],\n",
       "\n",
       "        [[-8.80201954e-01,  2.40934173e+00]],\n",
       "\n",
       "        [[-2.29238823e-03,  3.99693184e+00]]],\n",
       "\n",
       "\n",
       "       [[[-4.39973626e-01,  8.21673616e-01]],\n",
       "\n",
       "        [[ 9.18480674e-01,  1.51651809e+00]],\n",
       "\n",
       "        [[ 1.13760022e+00, -7.49540541e-01]],\n",
       "\n",
       "        [[ 9.50030307e-01, -6.46944859e-02]]]])"
      ]
     },
     "execution_count": 105,
     "metadata": {},
     "output_type": "execute_result"
    }
   ],
   "source": [
    "np.matmul(np.transpose(B, (0,1,3,2)), A).shape\n",
    "np.matmul(np.transpose(B, (0,1,3,2)), A)"
   ]
  },
  {
   "cell_type": "code",
   "execution_count": 113,
   "metadata": {},
   "outputs": [
    {
     "data": {
      "text/plain": [
       "(2, 4, 6, 1, 2)"
      ]
     },
     "execution_count": 113,
     "metadata": {},
     "output_type": "execute_result"
    }
   ],
   "source": [
    "A = np.random.randn(2,4,6,4,2)  #bcij\n",
    "B = np.random.randn(2,4,6,4,1)  #bcik\n",
    "\n",
    "np.einsum(\"bcdik,bcdij -> bcdkj\", B, A).shape\n"
   ]
  },
  {
   "cell_type": "code",
   "execution_count": 114,
   "metadata": {},
   "outputs": [
    {
     "data": {
      "text/plain": [
       "array([[[[[-0.07612244, -0.83022512]],\n",
       "\n",
       "         [[-5.31563046,  1.41033108]],\n",
       "\n",
       "         [[ 1.07533216, -4.04592244]],\n",
       "\n",
       "         [[-1.64000847, -0.27831648]],\n",
       "\n",
       "         [[ 0.1876007 ,  1.27727083]],\n",
       "\n",
       "         [[-0.85483659, -0.4512062 ]]],\n",
       "\n",
       "\n",
       "        [[[-2.57192964,  0.08523698]],\n",
       "\n",
       "         [[-1.49554138,  1.84340512]],\n",
       "\n",
       "         [[-1.24350724,  4.37306114]],\n",
       "\n",
       "         [[ 5.16450367, -1.93149009]],\n",
       "\n",
       "         [[ 2.30707763, -0.9919583 ]],\n",
       "\n",
       "         [[-1.93834652, -1.43974049]]],\n",
       "\n",
       "\n",
       "        [[[ 1.97246738,  2.02740928]],\n",
       "\n",
       "         [[-1.63597269,  0.95484722]],\n",
       "\n",
       "         [[ 3.59735001, -0.98120638]],\n",
       "\n",
       "         [[ 2.28524075, -0.11658779]],\n",
       "\n",
       "         [[-0.44371979,  2.26747628]],\n",
       "\n",
       "         [[ 1.47359475,  0.61744796]]],\n",
       "\n",
       "\n",
       "        [[[ 0.31364602,  0.52073216]],\n",
       "\n",
       "         [[ 0.40538328, -4.17716112]],\n",
       "\n",
       "         [[ 1.57355951, -0.92710283]],\n",
       "\n",
       "         [[-0.81987024, -0.11066966]],\n",
       "\n",
       "         [[-1.64668196,  1.95753449]],\n",
       "\n",
       "         [[-2.43705484, -5.0062357 ]]]],\n",
       "\n",
       "\n",
       "\n",
       "       [[[[-0.8933632 , -1.05758995]],\n",
       "\n",
       "         [[ 0.04457038, -0.82058592]],\n",
       "\n",
       "         [[-3.44905366, -0.0764153 ]],\n",
       "\n",
       "         [[-2.31110628,  0.4109896 ]],\n",
       "\n",
       "         [[-0.05588062, -0.40958402]],\n",
       "\n",
       "         [[-0.38753299, -1.60642484]]],\n",
       "\n",
       "\n",
       "        [[[-1.84925264, -1.88809492]],\n",
       "\n",
       "         [[ 0.75076061,  2.37834352]],\n",
       "\n",
       "         [[ 1.04741847, -4.1398174 ]],\n",
       "\n",
       "         [[ 0.82107411, -0.41506178]],\n",
       "\n",
       "         [[ 5.20089268,  4.0881732 ]],\n",
       "\n",
       "         [[ 2.18829741, -5.68666599]]],\n",
       "\n",
       "\n",
       "        [[[-0.47260073, -1.15317926]],\n",
       "\n",
       "         [[ 1.79131986,  1.24026456]],\n",
       "\n",
       "         [[-0.59181374,  2.90509025]],\n",
       "\n",
       "         [[ 1.20185919, -0.09299044]],\n",
       "\n",
       "         [[-2.28133045,  4.14601449]],\n",
       "\n",
       "         [[-2.04358444,  0.38972699]]],\n",
       "\n",
       "\n",
       "        [[[-0.95274744,  2.47469189]],\n",
       "\n",
       "         [[ 0.4213895 , -1.40205655]],\n",
       "\n",
       "         [[-1.90165901,  0.92383598]],\n",
       "\n",
       "         [[ 2.59371285, -1.15442407]],\n",
       "\n",
       "         [[-1.33241354, -0.38250607]],\n",
       "\n",
       "         [[-0.07694016, -1.97604982]]]]])"
      ]
     },
     "execution_count": 114,
     "metadata": {},
     "output_type": "execute_result"
    }
   ],
   "source": [
    "np.einsum(\"bcdik,bcdij -> bcdkj\", B, A)"
   ]
  },
  {
   "cell_type": "code",
   "execution_count": null,
   "metadata": {},
   "outputs": [],
   "source": []
  }
 ],
 "metadata": {
  "kernelspec": {
   "display_name": "Python 3",
   "language": "python",
   "name": "python3"
  },
  "language_info": {
   "codemirror_mode": {
    "name": "ipython",
    "version": 3
   },
   "file_extension": ".py",
   "mimetype": "text/x-python",
   "name": "python",
   "nbconvert_exporter": "python",
   "pygments_lexer": "ipython3",
   "version": "3.11.9"
  }
 },
 "nbformat": 4,
 "nbformat_minor": 2
}
