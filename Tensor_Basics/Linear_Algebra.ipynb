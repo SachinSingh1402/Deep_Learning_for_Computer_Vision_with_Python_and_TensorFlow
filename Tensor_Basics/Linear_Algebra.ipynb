{
 "cells": [
  {
   "cell_type": "code",
   "execution_count": 1,
   "metadata": {},
   "outputs": [],
   "source": [
    "import tensorflow as tf\n",
    "import numpy as np"
   ]
  },
  {
   "cell_type": "markdown",
   "metadata": {},
   "source": [
    "### Matrix Multiplication"
   ]
  },
  {
   "cell_type": "code",
   "execution_count": 2,
   "metadata": {},
   "outputs": [
    {
     "name": "stdout",
     "output_type": "stream",
     "text": [
      "(2, 3) (3, 3)\n"
     ]
    },
    {
     "data": {
      "text/plain": [
       "<tf.Tensor: shape=(2, 3), dtype=int32, numpy=\n",
       "array([[ 46,  52,  58],\n",
       "       [ 88, 100, 112]])>"
      ]
     },
     "execution_count": 2,
     "metadata": {},
     "output_type": "execute_result"
    }
   ],
   "source": [
    "a = tf.constant([[1, 2, 3], [3, 4, 5]])\n",
    "b = tf.constant([[5, 6, 7], [7, 8, 9], [9, 10, 11]])\n",
    "\n",
    "print(a.shape, b.shape)\n",
    "\n",
    "tf.linalg.matmul(\n",
    "    a, b, transpose_a=False, transpose_b=False, adjoint_a=False, adjoint_b=False, a_is_sparse=False, b_is_sparse=False, output_type=None, name=None\n",
    ")"
   ]
  },
  {
   "cell_type": "code",
   "execution_count": 3,
   "metadata": {},
   "outputs": [
    {
     "name": "stdout",
     "output_type": "stream",
     "text": [
      "tf.Tensor(\n",
      "[[ 46  52  58]\n",
      " [ 88 100 112]], shape=(2, 3), dtype=int32)\n"
     ]
    }
   ],
   "source": [
    "# Perform element wise multiplication using the '*' operator\n",
    "# Perform matrix multiplication using the '@' operator\n",
    "\n",
    "print(a @ b)"
   ]
  },
  {
   "cell_type": "markdown",
   "metadata": {},
   "source": [
    "### Matrix Transpose"
   ]
  },
  {
   "cell_type": "code",
   "execution_count": 4,
   "metadata": {},
   "outputs": [
    {
     "name": "stdout",
     "output_type": "stream",
     "text": [
      "tf.Tensor(\n",
      "[[1 3]\n",
      " [2 4]\n",
      " [3 5]], shape=(3, 2), dtype=int32)\n",
      "tf.Tensor(\n",
      "[[ 5  7  9]\n",
      " [ 6  8 10]\n",
      " [ 7  9 11]], shape=(3, 3), dtype=int32)\n"
     ]
    }
   ],
   "source": [
    "# transpose of the matrix\n",
    "\n",
    "print(tf.transpose(a))\n",
    "print(tf.transpose(b))"
   ]
  },
  {
   "cell_type": "code",
   "execution_count": 5,
   "metadata": {},
   "outputs": [
    {
     "name": "stdout",
     "output_type": "stream",
     "text": [
      "(1, 3) (3, 4) (2, 4) (4, 3)\n",
      "tf.Tensor(\n",
      "[[ 30  70  29]\n",
      " [ 70 174  89]], shape=(2, 3), dtype=int32)\n"
     ]
    },
    {
     "data": {
      "text/plain": [
       "<tf.Tensor: shape=(2, 3), dtype=int32, numpy=\n",
       "array([[ 30,  70,  29],\n",
       "       [ 70, 174,  89]])>"
      ]
     },
     "execution_count": 5,
     "metadata": {},
     "output_type": "execute_result"
    }
   ],
   "source": [
    "a = tf.constant([[1,2,3]])\n",
    "\n",
    "b = tf.constant([[1, 2, 3, 4],\n",
    "                 [5, 6, 7, 8],\n",
    "                 [9, 1, 2, 3]])\n",
    "\n",
    "c = tf.constant([[1, 2, 3, 4],\n",
    "                 [5, 6, 7, 8]])\n",
    "\n",
    "# Perform matrix multiplication of 'c' with the transpose of 'b'\n",
    "print(a.shape, b.shape, c.shape, tf.transpose(b).shape)\n",
    "\n",
    "print(c @ tf.transpose(b))\n",
    "tf.linalg.matmul(\n",
    "    c, b, transpose_a=False, transpose_b=True, adjoint_a=False, adjoint_b=False, a_is_sparse=False, b_is_sparse=False, output_type=None, name=None\n",
    ")"
   ]
  },
  {
   "cell_type": "code",
   "execution_count": 6,
   "metadata": {},
   "outputs": [
    {
     "name": "stdout",
     "output_type": "stream",
     "text": [
      "(1, 3) (3, 2) (2, 4) (2, 3)\n",
      "tf.Tensor(\n",
      "[[11 35 14]\n",
      " [14 46 24]\n",
      " [17 57 34]\n",
      " [20 68 44]], shape=(4, 3), dtype=int32)\n"
     ]
    },
    {
     "data": {
      "text/plain": [
       "<tf.Tensor: shape=(4, 3), dtype=int32, numpy=\n",
       "array([[11, 35, 14],\n",
       "       [14, 46, 24],\n",
       "       [17, 57, 34],\n",
       "       [20, 68, 44]])>"
      ]
     },
     "execution_count": 6,
     "metadata": {},
     "output_type": "execute_result"
    }
   ],
   "source": [
    "a = tf.constant([[1,2,3]])\n",
    "\n",
    "b = tf.constant([[1, 2],\n",
    "                 [5, 6],\n",
    "                 [9, 1]])\n",
    "\n",
    "c = tf.constant([[1, 2, 3, 4],\n",
    "                 [5, 6, 7, 8]])\n",
    "\n",
    "print(a.shape, b.shape, c.shape, tf.transpose(b).shape)\n",
    "\n",
    "# Perform matrix multiplication of 'c' with the transpose of 'b'\n",
    "print(tf.transpose(c) @ tf.transpose(b))\n",
    "\n",
    "tf.linalg.matmul(\n",
    "    c, b, transpose_a=True, transpose_b=True, adjoint_a=False, adjoint_b=False, a_is_sparse=False, b_is_sparse=False, output_type=None, name=None\n",
    ")"
   ]
  },
  {
   "cell_type": "markdown",
   "metadata": {},
   "source": [
    "### Adjoining Matrix"
   ]
  },
  {
   "cell_type": "code",
   "execution_count": 7,
   "metadata": {},
   "outputs": [
    {
     "name": "stdout",
     "output_type": "stream",
     "text": [
      "tf.Tensor(\n",
      "[[ 9 12 15]\n",
      " [24 33 42]], shape=(2, 3), dtype=int32)\n"
     ]
    }
   ],
   "source": [
    "a = tf.constant([[1,2],\n",
    "                  [4,5]])\n",
    "\n",
    "b = tf.constant([[1,2,3],\n",
    "                  [4,5,6]])\n",
    "\n",
    "print(tf.linalg.matmul(a, b))"
   ]
  },
  {
   "cell_type": "code",
   "execution_count": 8,
   "metadata": {},
   "outputs": [
    {
     "name": "stdout",
     "output_type": "stream",
     "text": [
      "tf.Tensor(\n",
      "[[4 2]\n",
      " [7 6]], shape=(2, 2), dtype=int32)\n"
     ]
    }
   ],
   "source": [
    "A = tf.constant([[4, 7],\n",
    "                 [2, 6]])\n",
    "\n",
    "# Compute the adjoint (which is the conjugate transpose for complex numbers)\n",
    "adjoint_A = tf.linalg.adjoint(A)\n",
    "\n",
    "print(adjoint_A)\n"
   ]
  },
  {
   "cell_type": "code",
   "execution_count": 9,
   "metadata": {},
   "outputs": [
    {
     "name": "stdout",
     "output_type": "stream",
     "text": [
      "tf.Tensor(\n",
      "[[0 1 1]\n",
      " [1 0 1]\n",
      " [1 1 0]], shape=(3, 3), dtype=int32)\n",
      "tf.Tensor(\n",
      "[[0 1 1]\n",
      " [1 0 1]\n",
      " [1 1 0]], shape=(3, 3), dtype=int32)\n",
      "Matrix Multiplication Result:\n",
      "[[2 1 1]\n",
      " [1 2 1]\n",
      " [1 1 2]]\n"
     ]
    }
   ],
   "source": [
    "# Create a 3x3 adjacency matrix\n",
    "a = tf.constant([[0, 1, 1],\n",
    "                [1, 0, 1],\n",
    "                [1, 1, 0]])\n",
    "\n",
    "# Print the adjacency matrix\n",
    "print(a)\n",
    "\n",
    "adjoint_A = tf.linalg.adjoint(a)\n",
    "\n",
    "print(adjoint_A)\n",
    "\n",
    "# Example of using the adjacency matrix in a simple TensorFlow operation\n",
    "# For instance, performing matrix multiplication\n",
    "result = tf.matmul(a, a)\n",
    "print(\"Matrix Multiplication Result:\")\n",
    "print(result.numpy())\n"
   ]
  },
  {
   "cell_type": "markdown",
   "metadata": {},
   "source": [
    "### extracts the lower or upper triangular part of a matrix"
   ]
  },
  {
   "cell_type": "code",
   "execution_count": 10,
   "metadata": {},
   "outputs": [
    {
     "name": "stdout",
     "output_type": "stream",
     "text": [
      "Original Matrix:\n",
      "[[ 1  2  3  4]\n",
      " [ 5  6  7  8]\n",
      " [ 9 10 11 12]\n",
      " [13 14 15 16]]\n",
      "Lower Triangular Part (including main diagonal):\n",
      "[[ 1  0  0  0]\n",
      " [ 5  6  0  0]\n",
      " [ 9 10 11  0]\n",
      " [13 14 15 16]]\n",
      "Upper Triangular Part (including main diagonal):\n",
      "[[ 1  2  3  4]\n",
      " [ 0  6  7  8]\n",
      " [ 0  0 11 12]\n",
      " [ 0  0  0 16]]\n"
     ]
    }
   ],
   "source": [
    "x = tf.constant([\n",
    "    [1, 2, 3, 4],\n",
    "    [5, 6, 7, 8],\n",
    "    [9, 10, 11, 12],\n",
    "    [13, 14, 15, 16]])\n",
    "\n",
    "# Extract the lower triangular part including the main diagonal\n",
    "lower_triangle = tf.linalg.band_part(x, num_lower=3, num_upper=0)\n",
    "\n",
    "# Extract the upper triangular part including the main diagonal\n",
    "upper_triangle = tf.linalg.band_part(x, num_lower=0, num_upper=3)\n",
    "\n",
    "print(\"Original Matrix:\")\n",
    "print(x.numpy())\n",
    "\n",
    "print(\"Lower Triangular Part (including main diagonal):\")\n",
    "print(lower_triangle.numpy())\n",
    "\n",
    "print(\"Upper Triangular Part (including main diagonal):\")\n",
    "print(upper_triangle.numpy())\n"
   ]
  },
  {
   "cell_type": "code",
   "execution_count": 11,
   "metadata": {},
   "outputs": [
    {
     "data": {
      "text/plain": [
       "<tf.Tensor: shape=(4, 4), dtype=float32, numpy=\n",
       "array([[ 1.,  0.,  0.,  0.],\n",
       "       [ 0.,  6.,  0.,  0.],\n",
       "       [ 0.,  0., 11.,  0.],\n",
       "       [ 0.,  0.,  0., 16.]], dtype=float32)>"
      ]
     },
     "execution_count": 11,
     "metadata": {},
     "output_type": "execute_result"
    }
   ],
   "source": [
    "x = tf.constant([\n",
    "    [1, 2, 3, 4],\n",
    "    [5, 6, 7, 8],\n",
    "    [9, 10, 11, 12],\n",
    "    [13, 14, 15, 16]], dtype=tf.float32)\n",
    "\n",
    "# Extract the main diagonal\n",
    "tf.linalg.band_part(x, 0, 0)"
   ]
  },
  {
   "cell_type": "markdown",
   "metadata": {},
   "source": [
    "### Inverse Matrix"
   ]
  },
  {
   "cell_type": "code",
   "execution_count": 12,
   "metadata": {},
   "outputs": [
    {
     "name": "stdout",
     "output_type": "stream",
     "text": [
      "Original Matrix:\n",
      "[[1. 2.]\n",
      " [3. 4.]]\n",
      "\n",
      "Inverse Matrix:\n",
      "[[-2.0000002   1.0000001 ]\n",
      " [ 1.5000001  -0.50000006]]\n"
     ]
    }
   ],
   "source": [
    "x = tf.constant([\n",
    "    [1.0, 2.0],\n",
    "    [3.0, 4.0]\n",
    "], dtype=tf.float32)\n",
    "\n",
    "# Compute the inverse of the matrix\n",
    "inverse_matrix = tf.linalg.inv(x)\n",
    "\n",
    "print(\"Original Matrix:\")\n",
    "print(x.numpy())\n",
    "\n",
    "print(\"\\nInverse Matrix:\")\n",
    "print(inverse_matrix.numpy())\n"
   ]
  },
  {
   "cell_type": "markdown",
   "metadata": {},
   "source": [
    "### Singular Value Decomposition"
   ]
  },
  {
   "cell_type": "code",
   "execution_count": 13,
   "metadata": {},
   "outputs": [
    {
     "name": "stdout",
     "output_type": "stream",
     "text": [
      "tf.Tensor([1.6848103e+01 1.0683696e+00 2.8763120e-07], shape=(3,), dtype=float32)\n",
      "tf.Tensor(\n",
      "[[ 0.21483716  0.8872305  -0.40824857]\n",
      " [ 0.5205872   0.24964423  0.8164965 ]\n",
      " [ 0.8263376  -0.3879429  -0.4082481 ]], shape=(3, 3), dtype=float32)\n",
      "tf.Tensor(\n",
      "[[ 0.47967106 -0.77669096  0.40824836]\n",
      " [ 0.5723676  -0.07568647 -0.81649655]\n",
      " [ 0.6650643   0.62531805  0.40824822]], shape=(3, 3), dtype=float32)\n"
     ]
    }
   ],
   "source": [
    "\n",
    "a = tf.constant([\n",
    "    [1, 2, 3],\n",
    "    [4, 5, 6],\n",
    "    [7, 8, 9]\n",
    "], dtype=tf.float32)\n",
    "\n",
    "# Compute the SVD\n",
    "s, u, v = tf.linalg.svd(a)\n",
    "\n",
    "print(s)\n",
    "print(u)\n",
    "print(v)"
   ]
  },
  {
   "cell_type": "markdown",
   "metadata": {},
   "source": [
    "### Einstein summation notation"
   ]
  },
  {
   "cell_type": "code",
   "execution_count": 14,
   "metadata": {},
   "outputs": [
    {
     "name": "stdout",
     "output_type": "stream",
     "text": [
      "Matrix A:\n",
      "[[1 2 3]\n",
      " [3 4 5]]\n",
      "\n",
      "Matrix B:\n",
      "[[ 5  6  7  8]\n",
      " [ 7  8  9 10]\n",
      " [ 1  2  3  4]]\n",
      "\n",
      "Matrix C (result of A * B):\n",
      "[[22 28 34 40]\n",
      " [48 60 72 84]]\n"
     ]
    }
   ],
   "source": [
    "A = tf.constant([\n",
    "    [1, 2, 3],\n",
    "    [3, 4, 5]])\n",
    "\n",
    "B = tf.constant([\n",
    "    [5, 6, 7, 8],\n",
    "    [7, 8, 9, 10],\n",
    "    [1, 2, 3, 4]])\n",
    "\n",
    "# Matrix multiplication using einsum\n",
    "C = tf.einsum('ij,jk->ik', A, B)\n",
    "\n",
    "print(\"Matrix A:\")\n",
    "print(A.numpy())\n",
    "\n",
    "print(\"\\nMatrix B:\")\n",
    "print(B.numpy())\n",
    "\n",
    "print(\"\\nMatrix C (result of A * B):\")\n",
    "print(C.numpy())"
   ]
  },
  {
   "cell_type": "code",
   "execution_count": 15,
   "metadata": {},
   "outputs": [
    {
     "name": "stdout",
     "output_type": "stream",
     "text": [
      "Tensor:\n",
      "[[1 2 3]\n",
      " [4 5 6]]\n",
      "\n",
      "Sum over axis 0:\n",
      "[5 7 9]\n",
      "\n",
      "Sum over axis 1:\n",
      "[ 6 15]\n"
     ]
    }
   ],
   "source": [
    "tensor = tf.constant([\n",
    "    [1, 2, 3],\n",
    "    [4, 5, 6]])\n",
    "\n",
    "# Sum over axis 0\n",
    "sum_axis_0 = tf.einsum('ij->j', tensor)\n",
    "\n",
    "# Sum over axis 1\n",
    "sum_axis_1 = tf.einsum('ij->i', tensor)\n",
    "\n",
    "print(\"Tensor:\")\n",
    "print(tensor.numpy())\n",
    "\n",
    "print(\"\\nSum over axis 0:\")\n",
    "print(sum_axis_0.numpy())\n",
    "\n",
    "print(\"\\nSum over axis 1:\")\n",
    "print(sum_axis_1.numpy())"
   ]
  },
  {
   "cell_type": "code",
   "execution_count": 16,
   "metadata": {},
   "outputs": [
    {
     "name": "stdout",
     "output_type": "stream",
     "text": [
      "(2, 3, 4) (2, 4, 5)\n",
      "Batch Multiplication C =: \n",
      "\n",
      "[[[ 38  48  58  68  42]\n",
      "  [ 90 116 142 168 122]\n",
      "  [ 38  48  58  68  42]]\n",
      "\n",
      " [[ 38  48  58  68  42]\n",
      "  [ 90 116 142 168 122]\n",
      "  [ 38  48  58  68  42]]] \n",
      "\n",
      "Einsum C =: \n",
      "\n",
      "[[[ 38  48  58  68  42]\n",
      "  [ 90 116 142 168 122]\n",
      "  [ 38  48  58  68  42]]\n",
      "\n",
      " [[ 38  48  58  68  42]\n",
      "  [ 90 116 142 168 122]\n",
      "  [ 38  48  58  68  42]]]\n"
     ]
    }
   ],
   "source": [
    "a = np.array([\n",
    "    [[1,2,3,4],\n",
    "     [5,6,7,8],\n",
    "     [1,2,3,4]],\n",
    "\n",
    "    [[1,2,3,4],\n",
    "     [5,6,7,8],\n",
    "     [1,2,3,4]]])\n",
    "\n",
    "b = np.array([\n",
    "    [[1,2,3,4,5],\n",
    "     [5,6,7,8,9],\n",
    "     [1,2,3,4,5],\n",
    "     [6,7,8,9,1]],\n",
    "\n",
    "     [[1,2,3,4,5],\n",
    "     [5,6,7,8,9],\n",
    "     [1,2,3,4,5],\n",
    "     [6,7,8,9,1]]])\n",
    "\n",
    "print(a.shape, b.shape)\n",
    "\n",
    "# Perform batch matrix multiplication\n",
    "print(\"Batch Multiplication C =: \\n\")\n",
    "\n",
    "# Here, `a` has shape (2, 3, 4) and `b` has shape (2, 4, 5)\n",
    "# We perform batch matrix multiplication on these two arrays\n",
    "print(np.matmul(a, b), \"\\n\")\n",
    "\n",
    "\n",
    "# Perform the same operation using einsum\n",
    "print(\"Einsum C =: \\n\")\n",
    "\n",
    "# Corrected einsum notation for batch matrix multiplication\n",
    "print(np.einsum('bij,bjk->bik', a, b))"
   ]
  },
  {
   "cell_type": "code",
   "execution_count": 17,
   "metadata": {},
   "outputs": [
    {
     "name": "stdout",
     "output_type": "stream",
     "text": [
      "Sum A =: \n",
      "\n",
      "92 \n",
      "\n",
      "Einsum A =: \n",
      "\n",
      "92\n"
     ]
    }
   ],
   "source": [
    "a = np.array([\n",
    "    [[1,2,3,4],\n",
    "     [5,6,7,8],\n",
    "     [1,2,3,4]],\n",
    "\n",
    "    [[1,2,3,4],\n",
    "     [5,6,7,8],\n",
    "     [1,2,3,4]]])\n",
    "\n",
    "print(\"Sum A =: \\n\")\n",
    "print(np.sum(a), \"\\n\")\n",
    "\n",
    "print(\"Einsum A =: \\n\")\n",
    "\n",
    "print(np.einsum('bij->', a))"
   ]
  },
  {
   "cell_type": "code",
   "execution_count": 18,
   "metadata": {},
   "outputs": [
    {
     "name": "stdout",
     "output_type": "stream",
     "text": [
      "Einsum A =: \n",
      "\n",
      "[ 7 10 13 16]\n",
      "Einsum A =: \n",
      "\n",
      "[10 26 10]\n"
     ]
    }
   ],
   "source": [
    "a = np.array([\n",
    "    [1,2,3,4],\n",
    "    [5,6,7,8],\n",
    "    [1,2,3,4]])\n",
    "\n",
    "# Use einsum to sum over the rows\n",
    "print(\"Einsum A =: \\n\")\n",
    "print(np.einsum('ij -> j', a))\n",
    "\n",
    "print(\"Einsum A =: \\n\")\n",
    "print(np.einsum('ij->i', a))"
   ]
  },
  {
   "cell_type": "code",
   "execution_count": 19,
   "metadata": {},
   "outputs": [
    {
     "data": {
      "text/plain": [
       "(32, 64, 128)"
      ]
     },
     "execution_count": 19,
     "metadata": {},
     "output_type": "execute_result"
    }
   ],
   "source": [
    "\n",
    "# Define Q and K with random values\n",
    "Q = np.random.randn(32, 64, 512)   # Q = batchsize, s_q, modelsize\n",
    "K = np.random.randn(32, 128, 512)   # K = batchsize, s_k, modelsize\n",
    "\n",
    "# Perform the dot product along the model size dimension\n",
    "# `Q` has shape (32, 64, 512), `K` has shape (32, 128, 512)\n",
    "# We want to get a result with shape (32, 64, 128)\n",
    "# This means summing over the last dimension of Q and K\n",
    "np.einsum(\"bqm,bkm -> bqk\", Q,K).shape"
   ]
  },
  {
   "cell_type": "code",
   "execution_count": 20,
   "metadata": {},
   "outputs": [
    {
     "data": {
      "text/plain": [
       "array([[[[ 0.61534821,  0.62813828]],\n",
       "\n",
       "        [[ 0.34404419, -0.40600019]],\n",
       "\n",
       "        [[-3.6637371 , -0.69914974]],\n",
       "\n",
       "        [[-5.62717854,  0.52922271]]],\n",
       "\n",
       "\n",
       "       [[[ 1.28550177, -4.16697973]],\n",
       "\n",
       "        [[-0.36503349, -1.50640348]],\n",
       "\n",
       "        [[-1.25987635,  3.12841559]],\n",
       "\n",
       "        [[-1.79871216,  0.37094244]]]])"
      ]
     },
     "execution_count": 20,
     "metadata": {},
     "output_type": "execute_result"
    }
   ],
   "source": [
    "A = np.random.randn(2,4,4,2)  #bcij\n",
    "B = np.random.randn(2,4,4,1)  #bcik\n",
    "\n",
    "np.einsum(\"bcik,bcij -> bckj\", B, A).shape\n",
    "np.einsum(\"bcik,bcij -> bckj\", B, A)"
   ]
  },
  {
   "cell_type": "code",
   "execution_count": 21,
   "metadata": {},
   "outputs": [
    {
     "data": {
      "text/plain": [
       "array([[[[ 0.61534821,  0.62813828]],\n",
       "\n",
       "        [[ 0.34404419, -0.40600019]],\n",
       "\n",
       "        [[-3.6637371 , -0.69914974]],\n",
       "\n",
       "        [[-5.62717854,  0.52922271]]],\n",
       "\n",
       "\n",
       "       [[[ 1.28550177, -4.16697973]],\n",
       "\n",
       "        [[-0.36503349, -1.50640348]],\n",
       "\n",
       "        [[-1.25987635,  3.12841559]],\n",
       "\n",
       "        [[-1.79871216,  0.37094244]]]])"
      ]
     },
     "execution_count": 21,
     "metadata": {},
     "output_type": "execute_result"
    }
   ],
   "source": [
    "np.matmul(np.transpose(B, (0,1,3,2)), A).shape\n",
    "np.matmul(np.transpose(B, (0,1,3,2)), A)"
   ]
  },
  {
   "cell_type": "code",
   "execution_count": 22,
   "metadata": {},
   "outputs": [
    {
     "data": {
      "text/plain": [
       "(2, 4, 6, 1, 2)"
      ]
     },
     "execution_count": 22,
     "metadata": {},
     "output_type": "execute_result"
    }
   ],
   "source": [
    "A = np.random.randn(2,4,6,4,2)  #bcij\n",
    "B = np.random.randn(2,4,6,4,1)  #bcik\n",
    "\n",
    "np.einsum(\"bcdik,bcdij -> bcdkj\", B, A).shape\n"
   ]
  },
  {
   "cell_type": "code",
   "execution_count": 23,
   "metadata": {},
   "outputs": [
    {
     "data": {
      "text/plain": [
       "array([[[[[-0.6160982 ,  1.08888309]],\n",
       "\n",
       "         [[ 1.160282  ,  0.28960134]],\n",
       "\n",
       "         [[ 0.47699666,  1.18982735]],\n",
       "\n",
       "         [[-2.88001308,  0.43434562]],\n",
       "\n",
       "         [[-1.38101628,  3.13622184]],\n",
       "\n",
       "         [[-1.66754104, -0.61744906]]],\n",
       "\n",
       "\n",
       "        [[[ 2.80192204, -1.09732722]],\n",
       "\n",
       "         [[-0.01767265, -0.82277838]],\n",
       "\n",
       "         [[-0.15735092, -2.17926713]],\n",
       "\n",
       "         [[ 2.29969997, -3.03637005]],\n",
       "\n",
       "         [[ 4.09074366,  1.66537965]],\n",
       "\n",
       "         [[-0.74404539, -0.37202687]]],\n",
       "\n",
       "\n",
       "        [[[ 0.78415972,  1.54503949]],\n",
       "\n",
       "         [[ 1.93826178,  1.33135563]],\n",
       "\n",
       "         [[-0.6624809 , -1.96889554]],\n",
       "\n",
       "         [[-0.39731574, -3.01252033]],\n",
       "\n",
       "         [[-3.7684737 , -3.63590288]],\n",
       "\n",
       "         [[ 3.25570569, -2.40164579]]],\n",
       "\n",
       "\n",
       "        [[[ 1.05106578, -0.25927642]],\n",
       "\n",
       "         [[-1.08456052, -0.37261672]],\n",
       "\n",
       "         [[ 0.60656744, -1.21147885]],\n",
       "\n",
       "         [[ 0.36448934, -0.62183485]],\n",
       "\n",
       "         [[-2.42376117, -0.28552063]],\n",
       "\n",
       "         [[-3.8603699 ,  0.16298472]]]],\n",
       "\n",
       "\n",
       "\n",
       "       [[[[-4.31327338,  2.92462181]],\n",
       "\n",
       "         [[-2.11681243,  1.30112681]],\n",
       "\n",
       "         [[ 1.08112894, -0.19580636]],\n",
       "\n",
       "         [[ 1.9134054 , -2.01261115]],\n",
       "\n",
       "         [[-0.29475299,  1.28648426]],\n",
       "\n",
       "         [[ 1.01383604,  3.23295251]]],\n",
       "\n",
       "\n",
       "        [[[ 5.02291216,  3.43091745]],\n",
       "\n",
       "         [[-2.86447003,  2.46333967]],\n",
       "\n",
       "         [[ 0.53244385, -1.36929552]],\n",
       "\n",
       "         [[-0.9657816 ,  1.11051209]],\n",
       "\n",
       "         [[-1.0510204 ,  0.89056663]],\n",
       "\n",
       "         [[ 1.59087504,  3.21129088]]],\n",
       "\n",
       "\n",
       "        [[[ 0.31754084,  0.01075203]],\n",
       "\n",
       "         [[-1.53203876,  0.5115786 ]],\n",
       "\n",
       "         [[ 1.94237622,  1.02807507]],\n",
       "\n",
       "         [[ 0.26144976, -0.37395484]],\n",
       "\n",
       "         [[-0.05017965, -0.59436119]],\n",
       "\n",
       "         [[ 3.6083854 ,  2.07397734]]],\n",
       "\n",
       "\n",
       "        [[[ 0.57173316,  5.91093695]],\n",
       "\n",
       "         [[ 0.47434787, -1.37659625]],\n",
       "\n",
       "         [[ 1.66128635, -0.99956653]],\n",
       "\n",
       "         [[-0.83758415,  1.35668283]],\n",
       "\n",
       "         [[ 1.27517909, -0.24807897]],\n",
       "\n",
       "         [[-2.46549143, -1.47532946]]]]])"
      ]
     },
     "execution_count": 23,
     "metadata": {},
     "output_type": "execute_result"
    }
   ],
   "source": [
    "np.einsum(\"bcdik,bcdij -> bcdkj\", B, A)"
   ]
  },
  {
   "cell_type": "code",
   "execution_count": null,
   "metadata": {},
   "outputs": [],
   "source": []
  }
 ],
 "metadata": {
  "kernelspec": {
   "display_name": "Python 3",
   "language": "python",
   "name": "python3"
  },
  "language_info": {
   "codemirror_mode": {
    "name": "ipython",
    "version": 3
   },
   "file_extension": ".py",
   "mimetype": "text/x-python",
   "name": "python",
   "nbconvert_exporter": "python",
   "pygments_lexer": "ipython3",
   "version": "3.11.9"
  }
 },
 "nbformat": 4,
 "nbformat_minor": 2
}
