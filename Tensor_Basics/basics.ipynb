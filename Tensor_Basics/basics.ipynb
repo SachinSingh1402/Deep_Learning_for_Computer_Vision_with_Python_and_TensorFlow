{
 "cells": [
  {
   "cell_type": "markdown",
   "metadata": {},
   "source": [
    "# Tensorflow"
   ]
  },
  {
   "cell_type": "code",
   "execution_count": 119,
   "metadata": {},
   "outputs": [],
   "source": [
    "import tensorflow as tf\n",
    "import numpy as np"
   ]
  },
  {
   "cell_type": "markdown",
   "metadata": {},
   "source": [
    "# Tensor\n",
    "\n",
    "Tensors are multi-dimensional arrays of numbers that represent complex data.\n",
    "\n",
    "They are the fundamental data structures used in machine learning and deep learning frameworks like TensorFlow and PyTorch.\n",
    "\n",
    "In other words creating an tensor is creating an matrix. "
   ]
  },
  {
   "cell_type": "code",
   "execution_count": 120,
   "metadata": {},
   "outputs": [
    {
     "name": "stdout",
     "output_type": "stream",
     "text": [
      "tf.Tensor(4, shape=(), dtype=int32)\n"
     ]
    }
   ],
   "source": [
    "# Creating a 0-dimensional tensor (a scalar)\n",
    "tensor_zero_d = tf.constant(4)\n",
    "print(tensor_zero_d)"
   ]
  },
  {
   "cell_type": "code",
   "execution_count": 121,
   "metadata": {},
   "outputs": [
    {
     "name": "stdout",
     "output_type": "stream",
     "text": [
      "tf.Tensor([ 2  0 -3], shape=(3,), dtype=int32)\n"
     ]
    }
   ],
   "source": [
    "# Creating a 1-dimensional tensor (a vector)\n",
    "tensor_one_d = tf.constant([2, 0, -3])\n",
    "print(tensor_one_d)"
   ]
  },
  {
   "cell_type": "code",
   "execution_count": 122,
   "metadata": {},
   "outputs": [
    {
     "name": "stdout",
     "output_type": "stream",
     "text": [
      "tf.Tensor([ 2.  0. -3.  8. 90.], shape=(5,), dtype=float32)\n"
     ]
    }
   ],
   "source": [
    "# Creating another 1-dimensional tensor (a vector with different elements)\n",
    "tensor_one_d = tf.constant([2, 0, -3, 8, 90.])\n",
    "print(tensor_one_d)"
   ]
  },
  {
   "cell_type": "code",
   "execution_count": 123,
   "metadata": {},
   "outputs": [
    {
     "name": "stdout",
     "output_type": "stream",
     "text": [
      "tf.Tensor(\n",
      "[[ 1  2  0]\n",
      " [ 3  5 -1]\n",
      " [ 1  5  6]\n",
      " [ 2  3  8]], shape=(4, 3), dtype=int32)\n"
     ]
    }
   ],
   "source": [
    "# Creating a 2-dimensional tensor (a matrix)\n",
    "tensor_two_d = tf.constant([\n",
    "    [1,2,0],\n",
    "    [3,5,-1],\n",
    "    [1,5,6],\n",
    "    [2,3,8]\n",
    "])\n",
    "print(tensor_two_d)"
   ]
  },
  {
   "cell_type": "code",
   "execution_count": 124,
   "metadata": {},
   "outputs": [
    {
     "name": "stdout",
     "output_type": "stream",
     "text": [
      "tf.Tensor(\n",
      "[[[ 1  2  0]\n",
      "  [ 3  5 -1]]\n",
      "\n",
      " [[10  2  0]\n",
      "  [ 1  0  2]]\n",
      "\n",
      " [[ 5  8  0]\n",
      "  [ 2  7  0]]\n",
      "\n",
      " [[ 2  1  9]\n",
      "  [ 4 -3 32]]], shape=(4, 2, 3), dtype=int32)\n"
     ]
    }
   ],
   "source": [
    "# Creating a 3-dimensional tensor\n",
    "tensor_three_d = tf.constant([\n",
    "    [[1,2,0],\n",
    "    [3,5,-1]],\n",
    "\n",
    "    [[10,2,0],\n",
    "    [1,0,2]],\n",
    "\n",
    "    [[5,8,0],\n",
    "    [2,7,0]],\n",
    "\n",
    "    [[2,1,9],\n",
    "    [4,-3,32]]\n",
    "\n",
    "])\n",
    "print(tensor_three_d)"
   ]
  },
  {
   "cell_type": "code",
   "execution_count": 125,
   "metadata": {},
   "outputs": [
    {
     "name": "stdout",
     "output_type": "stream",
     "text": [
      "()\n",
      "(5,)\n",
      "(4, 3)\n",
      "(4, 2, 3)\n"
     ]
    }
   ],
   "source": [
    "# Printing the shape of each tensor\n",
    "print(tensor_zero_d.shape)\n",
    "print(tensor_one_d.shape)\n",
    "print(tensor_two_d.shape)\n",
    "print(tensor_three_d.shape)"
   ]
  },
  {
   "cell_type": "code",
   "execution_count": 126,
   "metadata": {},
   "outputs": [
    {
     "data": {
      "text/plain": [
       "<tf.Tensor: shape=(), dtype=int32, numpy=3>"
      ]
     },
     "execution_count": 126,
     "metadata": {},
     "output_type": "execute_result"
    }
   ],
   "source": [
    "# Printing the number of dimensions (rank) of tensors\n",
    "t = tf.constant([[[1, 1, 1], [2, 2, 2]], [[3, 3, 3], [4, 4, 4]]])\n",
    "tf.rank(t)"
   ]
  },
  {
   "cell_type": "code",
   "execution_count": 127,
   "metadata": {},
   "outputs": [
    {
     "data": {
      "text/plain": [
       "<tf.Tensor: shape=(), dtype=int32, numpy=2>"
      ]
     },
     "execution_count": 127,
     "metadata": {},
     "output_type": "execute_result"
    }
   ],
   "source": [
    "t = tf.constant([[1, 1, 1], [2, 2, 2]])\n",
    "tf.rank(t)"
   ]
  },
  {
   "cell_type": "code",
   "execution_count": 128,
   "metadata": {},
   "outputs": [
    {
     "data": {
      "text/plain": [
       "<tf.Tensor: shape=(), dtype=int32, numpy=12>"
      ]
     },
     "execution_count": 128,
     "metadata": {},
     "output_type": "execute_result"
    }
   ],
   "source": [
    "# Finding the size (number of elements) in a tensor\n",
    "t = tf.constant([[[1, 1, 1], [2, 2, 2]], [[3, 3, 3], [4, 4, 4]]])\n",
    "tf.size(t)"
   ]
  },
  {
   "cell_type": "code",
   "execution_count": 129,
   "metadata": {},
   "outputs": [
    {
     "data": {
      "text/plain": [
       "<tf.Tensor: shape=(), dtype=float32, numpy=6.0>"
      ]
     },
     "execution_count": 129,
     "metadata": {},
     "output_type": "execute_result"
    }
   ],
   "source": [
    "# Finding the size in a specific dtype \n",
    "t = tf.constant([[1, 1, 1], [2, 2, 2]])\n",
    "tf.size(t, out_type=tf.float32)"
   ]
  },
  {
   "cell_type": "code",
   "execution_count": 149,
   "metadata": {},
   "outputs": [
    {
     "name": "stdout",
     "output_type": "stream",
     "text": [
      "tf.Tensor([4 2 3], shape=(3,), dtype=int32)\n",
      "3\n"
     ]
    }
   ],
   "source": [
    "## Printing the shape and number of dimensions of a tensor\n",
    "print(tf.shape(tensor_three_d))\n",
    "print(tensor_three_d.ndim)"
   ]
  },
  {
   "cell_type": "code",
   "execution_count": 132,
   "metadata": {},
   "outputs": [
    {
     "name": "stdout",
     "output_type": "stream",
     "text": [
      "tf.Tensor(\n",
      "[[[[  13   12   90]\n",
      "   [  33   57  -10]]\n",
      "\n",
      "  [[  10    2    0]\n",
      "   [   1   60   32]]\n",
      "\n",
      "  [[  85   18    0]\n",
      "   [  52   77   47]]\n",
      "\n",
      "  [[  52   81   69]\n",
      "   [  84   -3   32]]]\n",
      "\n",
      "\n",
      " [[[ 143   12  900]\n",
      "   [ 303  527 -910]]\n",
      "\n",
      "  [[ 150    2  440]\n",
      "   [  51  620  342]]\n",
      "\n",
      "  [[  85  186  103]\n",
      "   [ 552   77  407]]\n",
      "\n",
      "  [[  52  181   69]\n",
      "   [ 384   -3  632]]]\n",
      "\n",
      "\n",
      " [[[  13  192   90]\n",
      "   [  33   57  -10]]\n",
      "\n",
      "  [[  10    2    0]\n",
      "   [   1  670  932]]\n",
      "\n",
      "  [[ 865   18    0]\n",
      "   [  52   77  897]]\n",
      "\n",
      "  [[ 542   81   69]\n",
      "   [ 814  -63  432]]]], shape=(3, 4, 2, 3), dtype=int32)\n"
     ]
    }
   ],
   "source": [
    "# Creating a 4-dimensional tensor\n",
    "tensor_four_d = tf.constant([\n",
    "\n",
    "[\n",
    "    [[13,12,90],\n",
    "    [33,57,-10]],\n",
    "\n",
    "    [[10,2,0],\n",
    "    [1,60,32]],\n",
    "\n",
    "    [[85,18,0],\n",
    "    [52,77,47]],\n",
    "\n",
    "    [[52,81,69],\n",
    "    [84,-3,32]]\n",
    "],\n",
    "\n",
    "[\n",
    "    [[143,12,900],\n",
    "    [303,527,-910]],\n",
    "\n",
    "    [[150,2,440],\n",
    "    [51,620,342]],\n",
    "\n",
    "    [[85,186,103],\n",
    "    [552,77,407]],\n",
    "\n",
    "    [[52,181,69],\n",
    "    [384,-3,632]]\n",
    "],\n",
    "\n",
    "[\n",
    "    [[13,192,90],\n",
    "    [33,57,-10]],\n",
    "\n",
    "    [[10,2,0],\n",
    "    [1,670,932]],\n",
    "\n",
    "    [[865,18,0],\n",
    "    [52,77,897]],\n",
    "\n",
    "    [[542,81,69],\n",
    "    [814,-63,432]]\n",
    "]\n",
    "])\n",
    "print(tensor_four_d)"
   ]
  },
  {
   "cell_type": "code",
   "execution_count": 133,
   "metadata": {},
   "outputs": [
    {
     "name": "stdout",
     "output_type": "stream",
     "text": [
      "(3, 4, 2, 3)\n"
     ]
    }
   ],
   "source": [
    "print(tensor_four_d.shape)"
   ]
  },
  {
   "cell_type": "code",
   "execution_count": 134,
   "metadata": {},
   "outputs": [
    {
     "name": "stdout",
     "output_type": "stream",
     "text": [
      "tf.Tensor([ 2.  0. -3.  8. 90.], shape=(5,), dtype=float32)\n",
      "tf.Tensor([ 2  0 -3  8 90], shape=(5,), dtype=int16)\n"
     ]
    }
   ],
   "source": [
    "# changing the dtype from float to integer\n",
    "tensor_one_d = tf.constant([2, 0, -3, 8, 90.],dtype=tf.float32)\n",
    "\n",
    "casted_tensor_one_d = tf.cast(tensor_one_d,dtype=tf.int16)\n",
    "print(tensor_one_d)\n",
    "print(casted_tensor_one_d)"
   ]
  },
  {
   "cell_type": "code",
   "execution_count": 135,
   "metadata": {},
   "outputs": [
    {
     "name": "stdout",
     "output_type": "stream",
     "text": [
      "tf.Tensor([ True  True False], shape=(3,), dtype=bool)\n"
     ]
    }
   ],
   "source": [
    "# Creating tensors with boolean and string data\n",
    "tensor_bool = tf.constant([True,True,False])\n",
    "print(tensor_bool)"
   ]
  },
  {
   "cell_type": "code",
   "execution_count": 136,
   "metadata": {},
   "outputs": [
    {
     "name": "stdout",
     "output_type": "stream",
     "text": [
      "tf.Tensor([b'hello world' b'hi'], shape=(2,), dtype=string)\n"
     ]
    }
   ],
   "source": [
    "tensor_string = tf.constant([\"hello world\",\"hi\"])\n",
    "print(tensor_string)"
   ]
  },
  {
   "cell_type": "code",
   "execution_count": 150,
   "metadata": {},
   "outputs": [
    {
     "name": "stdout",
     "output_type": "stream",
     "text": [
      "[1 2 4]\n",
      "tf.Tensor([1 2 4], shape=(3,), dtype=int32)\n"
     ]
    }
   ],
   "source": [
    "# Converting a NumPy array into a TensorFlow tensor\n",
    "np_array = np.array([1,2,4])\n",
    "print(np_array)\n",
    "converted_tensor = tf.convert_to_tensor(np_array)\n",
    "print(converted_tensor)"
   ]
  },
  {
   "cell_type": "code",
   "execution_count": 139,
   "metadata": {},
   "outputs": [
    {
     "name": "stdout",
     "output_type": "stream",
     "text": [
      "tf.Tensor(\n",
      "[[1. 0. 0.]\n",
      " [0. 1. 0.]\n",
      " [0. 0. 1.]], shape=(3, 3), dtype=float32)\n"
     ]
    }
   ],
   "source": [
    "# Creating special tensors which is 3x3 identity matrix\n",
    "eye_tensor = tf.eye(\n",
    "    num_rows=3,\n",
    "    num_columns=None,\n",
    "    batch_shape=None,    # batch dimensions od this shape\n",
    "    dtype=tf.dtypes.float32,   # we can change dtype \n",
    "    name = None\n",
    ")\n",
    "print(eye_tensor)"
   ]
  },
  {
   "cell_type": "code",
   "execution_count": 140,
   "metadata": {},
   "outputs": [
    {
     "name": "stdout",
     "output_type": "stream",
     "text": [
      "tf.Tensor(\n",
      "[[[5 5 5 5]\n",
      "  [5 5 5 5]\n",
      "  [5 5 5 5]]\n",
      "\n",
      " [[5 5 5 5]\n",
      "  [5 5 5 5]\n",
      "  [5 5 5 5]]], shape=(2, 3, 4), dtype=int32)\n"
     ]
    }
   ],
   "source": [
    "# Tensor filled with 5, shape (2, 3, 4)\n",
    "fill_tensor = tf.fill(\n",
    "    [2,3,4],5 ,name=None\n",
    ")\n",
    "print(fill_tensor)"
   ]
  },
  {
   "cell_type": "code",
   "execution_count": 141,
   "metadata": {},
   "outputs": [
    {
     "name": "stdout",
     "output_type": "stream",
     "text": [
      "tf.Tensor(\n",
      "[[[1. 1.]\n",
      "  [1. 1.]\n",
      "  [1. 1.]]\n",
      "\n",
      " [[1. 1.]\n",
      "  [1. 1.]\n",
      "  [1. 1.]]\n",
      "\n",
      " [[1. 1.]\n",
      "  [1. 1.]\n",
      "  [1. 1.]]\n",
      "\n",
      " [[1. 1.]\n",
      "  [1. 1.]\n",
      "  [1. 1.]]\n",
      "\n",
      " [[1. 1.]\n",
      "  [1. 1.]\n",
      "  [1. 1.]]], shape=(5, 3, 2), dtype=float32)\n"
     ]
    }
   ],
   "source": [
    "# Tensor filled with ones, shape (5, 3, 2)\n",
    "ones_tensor = tf.ones(\n",
    "    [5,3,2],\n",
    "    dtype=tf.dtypes.float32,\n",
    "    name=None\n",
    ")\n",
    "print(ones_tensor)"
   ]
  },
  {
   "cell_type": "code",
   "execution_count": 142,
   "metadata": {},
   "outputs": [
    {
     "name": "stdout",
     "output_type": "stream",
     "text": [
      "tf.Tensor(\n",
      "[[0. 0.]\n",
      " [0. 0.]\n",
      " [0. 0.]], shape=(3, 2), dtype=float32)\n"
     ]
    }
   ],
   "source": [
    "# Tensor filled with zeros, shape (3, 2)\n",
    "zeros_tensor = tf.zeros(\n",
    "    [3,2],\n",
    "    dtype=tf.dtypes.float32,\n",
    "    name=None\n",
    ")\n",
    "print(zeros_tensor)"
   ]
  },
  {
   "cell_type": "code",
   "execution_count": 143,
   "metadata": {},
   "outputs": [
    {
     "name": "stdout",
     "output_type": "stream",
     "text": [
      "tf.Tensor(\n",
      "[[[1 1 1 1]\n",
      "  [1 1 1 1]\n",
      "  [1 1 1 1]]\n",
      "\n",
      " [[1 1 1 1]\n",
      "  [1 1 1 1]\n",
      "  [1 1 1 1]]], shape=(2, 3, 4), dtype=int32)\n"
     ]
    }
   ],
   "source": [
    "# Tensor of ones with the same shape as `fill_tensor`\n",
    "ones_like_tensor = tf.ones_like(fill_tensor)\n",
    "print(ones_like_tensor)"
   ]
  },
  {
   "cell_type": "code",
   "execution_count": 144,
   "metadata": {},
   "outputs": [
    {
     "name": "stdout",
     "output_type": "stream",
     "text": [
      "tf.Tensor(\n",
      "[[-0.18030666 -0.95028627]\n",
      " [-0.03964049 -0.7425406 ]\n",
      " [ 1.3231523  -0.61854804]], shape=(3, 2), dtype=float32)\n"
     ]
    }
   ],
   "source": [
    "# Creating random values tensors\n",
    "random_tensor = tf.random.normal(\n",
    "    [3, 2],\n",
    "    mean=0.0,\n",
    "    stddev=1.0,\n",
    "    dtype=tf.dtypes.float32,\n",
    "    seed=None,\n",
    "    name=None\n",
    ")\n",
    "print(random_tensor)"
   ]
  },
  {
   "cell_type": "code",
   "execution_count": 145,
   "metadata": {},
   "outputs": [
    {
     "name": "stdout",
     "output_type": "stream",
     "text": [
      "tf.Tensor(\n",
      "[[97 64 60 58 70]\n",
      " [17 40 43 77 34]\n",
      " [32 29 83 64 94]\n",
      " [20 92 11 85 71]\n",
      " [ 1 94 50  6 33]], shape=(5, 5), dtype=int32)\n"
     ]
    }
   ],
   "source": [
    "# Random values from a uniform distribution\n",
    "random_tensor = tf.random.uniform(\n",
    "    [5,5],\n",
    "    minval=0,\n",
    "    maxval=100,\n",
    "    dtype=tf.dtypes.int32,\n",
    "    seed =None,\n",
    "    name=None\n",
    ")\n",
    "print(random_tensor)"
   ]
  },
  {
   "cell_type": "code",
   "execution_count": 146,
   "metadata": {},
   "outputs": [
    {
     "name": "stdout",
     "output_type": "stream",
     "text": [
      "tf.Tensor([4 3 1], shape=(3,), dtype=int32)\n",
      "tf.Tensor([4 3 2], shape=(3,), dtype=int32)\n",
      "tf.Tensor([1 1 1], shape=(3,), dtype=int32)\n",
      "tf.Tensor([1 3 3], shape=(3,), dtype=int32)\n"
     ]
    }
   ],
   "source": [
    "# Setting a random seed for reproducibility\n",
    "tf.random.set_seed(5)\n",
    "print(tf.random.uniform(shape=[3,], maxval=5, dtype=tf.int32, seed=10))\n",
    "print(tf.random.uniform(shape=[3,], maxval=5, dtype=tf.int32, seed=10))\n",
    "print(tf.random.uniform(shape=[3,], maxval=5, dtype=tf.int32, seed=10))\n",
    "print(tf.random.uniform(shape=[3,], maxval=5, dtype=tf.int32, seed=10))"
   ]
  },
  {
   "cell_type": "markdown",
   "metadata": {},
   "source": [
    "### Indexing and slicing tensors"
   ]
  },
  {
   "cell_type": "code",
   "execution_count": 147,
   "metadata": {},
   "outputs": [
    {
     "name": "stdout",
     "output_type": "stream",
     "text": [
      "tf.Tensor([ 3  6  2  4  6 66  7], shape=(7,), dtype=int32)\n",
      "tf.Tensor([3 6 2 4], shape=(4,), dtype=int32)\n",
      "tf.Tensor([ 6  2  4  6 66], shape=(5,), dtype=int32)\n",
      "tf.Tensor([ 6  4 66], shape=(3,), dtype=int32)\n",
      "tf.Tensor([4 6], shape=(2,), dtype=int32)\n"
     ]
    }
   ],
   "source": [
    "# Indexing and slicing a 1D tensor\n",
    "tensor_indexed = tf.constant([3,6,2,4,6,66,7])\n",
    "print(tensor_indexed)\n",
    "print(tensor_indexed[0:4])\n",
    "print(tensor_indexed[1:5+1])\n",
    "print(tensor_indexed[1:6:2])\n",
    "print(tensor_indexed[3:-2])"
   ]
  },
  {
   "cell_type": "code",
   "execution_count": 148,
   "metadata": {},
   "outputs": [
    {
     "name": "stdout",
     "output_type": "stream",
     "text": [
      "tf.Tensor(\n",
      "[[1 2]\n",
      " [3 5]\n",
      " [9 1]], shape=(3, 2), dtype=int32)\n",
      "tf.Tensor(\n",
      "[[1 2 0]\n",
      " [3 5 7]\n",
      " [9 1 4]], shape=(3, 3), dtype=int32)\n",
      "tf.Tensor([9 1 4], shape=(3,), dtype=int32)\n",
      "tf.Tensor([1 4], shape=(2,), dtype=int32)\n",
      "tf.Tensor([1 3 9 4], shape=(4,), dtype=int32)\n",
      "tf.Tensor([3 9], shape=(2,), dtype=int32)\n",
      "tf.Tensor([2 5 1 7], shape=(4,), dtype=int32)\n"
     ]
    }
   ],
   "source": [
    "# Indexing and slicing a 2D tensor\n",
    "tensor_two_d = tf.constant([[1,2,0],\n",
    "                            [3,5,7],\n",
    "                            [9,1,4],\n",
    "                            [4,7,5]])\n",
    "print(tensor_two_d[0:3,0:2])\n",
    "print(tensor_two_d[0:3,])\n",
    "print(tensor_two_d[2,:])\n",
    "print(tensor_two_d[2,1:])\n",
    "print(tensor_two_d[:,0])\n",
    "print(tensor_two_d[1:3,0])\n",
    "print(tensor_two_d[...,1])"
   ]
  },
  {
   "cell_type": "code",
   "execution_count": 178,
   "metadata": {},
   "outputs": [
    {
     "name": "stdout",
     "output_type": "stream",
     "text": [
      "tf.Tensor(\n",
      "[[ 2 26 61]\n",
      " [78 71 53]], shape=(2, 3), dtype=int32)\n",
      "tf.Tensor([ 2 26 61], shape=(3,), dtype=int32)\n",
      "tf.Tensor([61 53], shape=(2,), dtype=int32)\n",
      "tf.Tensor(\n",
      "[[61 53]\n",
      " [94 43]], shape=(2, 2), dtype=int32)\n",
      "tf.Tensor(\n",
      "[[61 53]\n",
      " [94 43]], shape=(2, 2), dtype=int32)\n",
      "tf.Tensor(\n",
      "[[61 53]\n",
      " [94 43]\n",
      " [96 70]\n",
      " [19 70]], shape=(4, 2), dtype=int32)\n"
     ]
    }
   ],
   "source": [
    "# Indexing and slicing a 3D tensor\n",
    "tensor_three_d = tf.constant([\n",
    "    [[ 2, 26, 61],\n",
    "    [78, 71, 53]],\n",
    "\n",
    "    [[ 3, 51, 94],\n",
    "    [73, 80, 43]],\n",
    "\n",
    "    [[ 4, 48, 96],\n",
    "    [50, 93, 70]],\n",
    "\n",
    "    [[37,  6, 19],\n",
    "    [ 3, 42, 70]]\n",
    "])\n",
    "print(tensor_three_d[0, :, :])\n",
    "print(tensor_three_d[0, 0, :])\n",
    "print(tensor_three_d[0, :, -1])\n",
    "print(tensor_three_d[0:2, :, 2])\n",
    "print(tensor_three_d[0:2, ..., 2])\n",
    "print(tensor_three_d[..., :, 2])"
   ]
  },
  {
   "cell_type": "code",
   "execution_count": null,
   "metadata": {},
   "outputs": [],
   "source": []
  }
 ],
 "metadata": {
  "kernelspec": {
   "display_name": "Python 3",
   "language": "python",
   "name": "python3"
  },
  "language_info": {
   "codemirror_mode": {
    "name": "ipython",
    "version": 3
   },
   "file_extension": ".py",
   "mimetype": "text/x-python",
   "name": "python",
   "nbconvert_exporter": "python",
   "pygments_lexer": "ipython3",
   "version": "3.11.9"
  }
 },
 "nbformat": 4,
 "nbformat_minor": 2
}
