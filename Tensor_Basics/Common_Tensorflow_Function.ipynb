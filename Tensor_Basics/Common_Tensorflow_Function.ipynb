{
 "cells": [
  {
   "cell_type": "code",
   "execution_count": 178,
   "metadata": {},
   "outputs": [],
   "source": [
    "import tensorflow as tf\n",
    "import numpy as np"
   ]
  },
  {
   "cell_type": "markdown",
   "metadata": {},
   "source": [
    "### Expanding dimension"
   ]
  },
  {
   "cell_type": "code",
   "execution_count": 179,
   "metadata": {},
   "outputs": [
    {
     "name": "stdout",
     "output_type": "stream",
     "text": [
      "(4, 2, 3)\n",
      "(1, 4, 2, 3)\n",
      "(4, 1, 2, 3)\n",
      "(4, 2, 1, 3)\n",
      "(4, 2, 3, 1)\n"
     ]
    }
   ],
   "source": [
    "d = tf.constant([[[1,2,3],\n",
    "                  [4,5,6]],\n",
    "                              \n",
    "                  [[1,2,3],\n",
    "                  [4,5,6]],\n",
    "\n",
    "                  [[1,2,3],\n",
    "                  [4,5,6]],\n",
    "                              \n",
    "                  [[1,2,3],\n",
    "                  [4,5,6]]])\n",
    "\n",
    "print(d.shape)\n",
    "print(tf.expand_dims(d, axis = 0).shape)\n",
    "print(tf.expand_dims(d, axis = 1).shape)\n",
    "print(tf.expand_dims(d, axis = 2).shape)\n",
    "print(tf.expand_dims(d, axis = 3).shape)"
   ]
  },
  {
   "cell_type": "code",
   "execution_count": 180,
   "metadata": {},
   "outputs": [
    {
     "name": "stdout",
     "output_type": "stream",
     "text": [
      "(1, 4)\n",
      "(1, 1, 4)\n"
     ]
    }
   ],
   "source": [
    "x =tf.constant([[2,3,4,5]])\n",
    "print(x.shape)\n",
    "print(tf.expand_dims(x, axis=0).shape)"
   ]
  },
  {
   "cell_type": "markdown",
   "metadata": {},
   "source": [
    "###  Remove the Dimensions"
   ]
  },
  {
   "cell_type": "code",
   "execution_count": 181,
   "metadata": {},
   "outputs": [
    {
     "name": "stdout",
     "output_type": "stream",
     "text": [
      "(4, 2, 3)\n",
      "(1, 4, 2, 3)\n",
      "(4, 1, 2, 3)\n",
      "(4, 2, 1, 3)\n",
      "(4, 2, 3, 1)\n",
      "(4, 2, 3)\n",
      "(4, 2, 3)\n",
      "(4, 2, 3)\n",
      "(4, 2, 3)\n"
     ]
    }
   ],
   "source": [
    "d = tf.constant([[[1, 2, 3],\n",
    "                  [4, 5, 6]],\n",
    "                 \n",
    "                 [[1, 2, 3],\n",
    "                  [4, 5, 6]],\n",
    "                 \n",
    "                 [[1, 2, 3],\n",
    "                  [4, 5, 6]],\n",
    "                 \n",
    "                 [[1, 2, 3],\n",
    "                  [4, 5, 6]]])\n",
    "\n",
    "# Expand dimensions and print the shapes\n",
    "print(d.shape)\n",
    "print(tf.expand_dims(d, axis = 0).shape)\n",
    "print(tf.expand_dims(d, axis = 1).shape)\n",
    "print(tf.expand_dims(d, axis = 2).shape)\n",
    "print(tf.expand_dims(d, axis = 3).shape)\n",
    "\n",
    "# Squeeze the expanded tensors to remove the size-1 dimensions and print the shapes\n",
    "print(tf.squeeze(tf.expand_dims(d, axis = 0)).shape)\n",
    "print(tf.squeeze(tf.expand_dims(d, axis = 1)).shape)\n",
    "print(tf.squeeze(tf.expand_dims(d, axis = 2)).shape)\n",
    "print(tf.squeeze(tf.expand_dims(d, axis = 3)).shape)\n"
   ]
  },
  {
   "cell_type": "markdown",
   "metadata": {},
   "source": [
    "### Reshape the Dimensions"
   ]
  },
  {
   "cell_type": "code",
   "execution_count": 182,
   "metadata": {},
   "outputs": [
    {
     "name": "stdout",
     "output_type": "stream",
     "text": [
      "(4, 2, 3)\n",
      "(4, 2, 3, 1)\n",
      "(4, 2, 3)\n"
     ]
    }
   ],
   "source": [
    "d = tf.constant([[[1,2,3],\n",
    "                  [4,5,6]],\n",
    "                              \n",
    "                  [[1,2,3],\n",
    "                  [4,5,6]],\n",
    "\n",
    "                  [[1,2,3],\n",
    "                  [4,5,6]],\n",
    "                              \n",
    "                  [[1,2,3],\n",
    "                  [4,5,6]]])\n",
    "\n",
    "print(d.shape)  # original shape of the dimensions\n",
    "print(tf.expand_dims(d, axis = 3).shape)  # expanded the shape of the dimensions\n",
    "print(tf.reshape(d, [4,2,3]).shape) # reshapeing the dimensions"
   ]
  },
  {
   "cell_type": "code",
   "execution_count": 183,
   "metadata": {},
   "outputs": [
    {
     "name": "stdout",
     "output_type": "stream",
     "text": [
      "tf.Tensor([ 3  5  6  6  4  6 -1  2], shape=(8,), dtype=int32)\n",
      "tf.Tensor(\n",
      "[[ 3  5]\n",
      " [ 6  6]\n",
      " [ 4  6]\n",
      " [-1  2]], shape=(4, 2), dtype=int32)\n",
      "tf.Tensor(\n",
      "[[[ 3]\n",
      "  [ 5]]\n",
      "\n",
      " [[ 6]\n",
      "  [ 6]]\n",
      "\n",
      " [[ 4]\n",
      "  [ 6]]\n",
      "\n",
      " [[-1]\n",
      "  [ 2]]], shape=(4, 2, 1), dtype=int32)\n",
      "tf.Tensor(\n",
      "[[ 3  5]\n",
      " [ 6  6]\n",
      " [ 4  6]\n",
      " [-1  2]], shape=(4, 2), dtype=int32)\n",
      "tf.Tensor([ 3  5  6  6  4  6 -1  2], shape=(8,), dtype=int32)\n",
      "tf.Tensor([ 3  5  6  6  4  6 -1  2], shape=(8,), dtype=int32)\n"
     ]
    }
   ],
   "source": [
    "x = tf.constant([[3,5,6,6],\n",
    "                 [4,6,-1,2]])\n",
    "\n",
    "a = tf.reshape(x, [8])\n",
    "print(a)\n",
    "\n",
    "b= tf.reshape(x, [4, 2])\n",
    "print(b)\n",
    "\n",
    "c = tf.reshape(x, [4, 2, 1])\n",
    "print(c)\n",
    "\n",
    "d = tf.reshape(x, [4, -1])\n",
    "print(d)\n",
    "\n",
    "e = tf.reshape(x, [-1])\n",
    "print(e)\n",
    "\n",
    "f = tf.reshape(x, [8])\n",
    "print(f)"
   ]
  },
  {
   "cell_type": "markdown",
   "metadata": {},
   "source": [
    "### CONCAT the tensor"
   ]
  },
  {
   "cell_type": "code",
   "execution_count": 184,
   "metadata": {},
   "outputs": [
    {
     "name": "stdout",
     "output_type": "stream",
     "text": [
      "Concatenated Tensor along axis 0:\n",
      "tf.Tensor(\n",
      "[[1 2 3]\n",
      " [3 4 5]\n",
      " [5 6 7]\n",
      " [7 8 9]], shape=(4, 3), dtype=int32)\n",
      "Concatenated Tensor along axis 1:\n",
      "tf.Tensor(\n",
      "[[1 2 3 5 6 7]\n",
      " [3 4 5 7 8 9]], shape=(2, 6), dtype=int32)\n"
     ]
    }
   ],
   "source": [
    "t1 = tf.constant([[1, 2, 3],\n",
    "                  [3, 4, 5]])\n",
    "\n",
    "t2 = tf.constant([[5, 6, 7],\n",
    "                  [7, 8, 9]])\n",
    "\n",
    "# Concatenate along axis 0 (rows)\n",
    "result = tf.concat([t1, t2], axis=0)\n",
    "\n",
    "# Print the result\n",
    "print(\"Concatenated Tensor along axis 0:\")\n",
    "print(result)\n",
    "\n",
    "# Concatenate along axis 1 (columns)\n",
    "result = tf.concat([t1, t2], axis=1)\n",
    "\n",
    "# Print the result\n",
    "print(\"Concatenated Tensor along axis 1:\")\n",
    "print(result)"
   ]
  },
  {
   "cell_type": "code",
   "execution_count": 185,
   "metadata": {},
   "outputs": [
    {
     "data": {
      "text/plain": [
       "<tf.Tensor: shape=(2, 2, 3), dtype=int32, numpy=\n",
       "array([[[1, 2, 3],\n",
       "        [3, 4, 5]],\n",
       "\n",
       "       [[5, 6, 7],\n",
       "        [7, 8, 9]]])>"
      ]
     },
     "execution_count": 185,
     "metadata": {},
     "output_type": "execute_result"
    }
   ],
   "source": [
    "# Stack the tensors along a new axis 0\n",
    "# or the tensor in its original form\n",
    "tf.stack([t1,t2], axis = 0)"
   ]
  },
  {
   "cell_type": "code",
   "execution_count": 186,
   "metadata": {},
   "outputs": [
    {
     "name": "stdout",
     "output_type": "stream",
     "text": [
      "(2, 2, 2)\n",
      "Concatenated 3D Tensor along axis 2:\n",
      "tf.Tensor(\n",
      "[[[ 1  2  9 10]\n",
      "  [ 3  4 11 12]]\n",
      "\n",
      " [[ 5  6 13 14]\n",
      "  [ 7  8 15 16]]], shape=(2, 2, 4), dtype=int32)\n"
     ]
    }
   ],
   "source": [
    "# Define two 3D tensors\n",
    "tensor3 = tf.constant([[[1, 2], [3, 4]],\n",
    "                       [[5, 6], [7, 8]]])\n",
    "\n",
    "tensor4 = tf.constant([[[9, 10], [11, 12]],\n",
    "                       [[13, 14], [15, 16]]])\n",
    "\n",
    "print(tensor3.shape)\n",
    "\n",
    "# Concatenate along axis 2\n",
    "result = tf.concat([tensor3, tensor4], axis=2)\n",
    "\n",
    "# Print the result\n",
    "print(\"Concatenated 3D Tensor along axis 2:\")\n",
    "print(result)"
   ]
  },
  {
   "cell_type": "markdown",
   "metadata": {},
   "source": [
    "### Padding to tensor"
   ]
  },
  {
   "cell_type": "code",
   "execution_count": 187,
   "metadata": {},
   "outputs": [
    {
     "name": "stdout",
     "output_type": "stream",
     "text": [
      "tf.Tensor(\n",
      "[[0 0 0 0 0 0 0]\n",
      " [0 0 1 2 3 0 0]\n",
      " [0 0 4 5 6 0 0]\n",
      " [0 0 0 0 0 0 0]], shape=(4, 7), dtype=int32)\n",
      "tf.Tensor(\n",
      "[[3 3 3 3 3 3 3]\n",
      " [3 3 1 2 3 3 3]\n",
      " [3 3 4 5 6 3 3]\n",
      " [3 3 3 3 3 3 3]], shape=(4, 7), dtype=int32)\n",
      "tf.Tensor(\n",
      "[[6 5 4 5 6 5 4]\n",
      " [3 2 1 2 3 2 1]\n",
      " [6 5 4 5 6 5 4]\n",
      " [3 2 1 2 3 2 1]], shape=(4, 7), dtype=int32)\n",
      "tf.Tensor(\n",
      "[[2 1 1 2 3 3 2]\n",
      " [2 1 1 2 3 3 2]\n",
      " [5 4 4 5 6 6 5]\n",
      " [5 4 4 5 6 6 5]], shape=(4, 7), dtype=int32)\n"
     ]
    }
   ],
   "source": [
    "# Define a 2D tensor\n",
    "t = tf.constant([[1, 2, 3],\n",
    "                [4, 5, 6]])\n",
    "\n",
    "# Define the padding: 1 row before and after, 2 columns before and after\n",
    "paddings = tf.constant([[1, 1],\n",
    "                        [2, 2]])\n",
    "\n",
    "# Apply padding with constant value 0 (default)\n",
    "# This adds zeros around the original tensor.\n",
    "a = tf.pad(t, paddings, \"CONSTANT\")\n",
    "print(a)\n",
    "\n",
    "# Apply padding with a constant value of 3\n",
    "# This adds the value 3 around the original tesor.\n",
    "b = tf.pad(t, paddings, \"CONSTANT\", constant_values=3)\n",
    "print(b)\n",
    "\n",
    "# Apply reflective padding\n",
    "# This pads the tensor by reflecting the values on the edge.\n",
    "c = tf.pad(t, paddings, \"REFLECT\")\n",
    "print(c)\n",
    "\n",
    "# Apply symmetric padding\n",
    "# This pads the tensor symmetrically, including the edge values in the reflection.\n",
    "d = tf.pad(t, paddings, \"SYMMETRIC\")\n",
    "print(d)\n"
   ]
  },
  {
   "cell_type": "markdown",
   "metadata": {},
   "source": [
    "### slices of tensor"
   ]
  },
  {
   "cell_type": "code",
   "execution_count": 188,
   "metadata": {},
   "outputs": [
    {
     "data": {
      "text/plain": [
       "<tf.Tensor: shape=(), dtype=string, numpy=b'p3'>"
      ]
     },
     "execution_count": 188,
     "metadata": {},
     "output_type": "execute_result"
    }
   ],
   "source": [
    "params = tf.constant(['p0', 'p1', 'p2', 'p3', 'p4', 'p5'])\n",
    "params[3]"
   ]
  },
  {
   "cell_type": "code",
   "execution_count": 189,
   "metadata": {},
   "outputs": [
    {
     "data": {
      "text/plain": [
       "<tf.Tensor: shape=(3,), dtype=string, numpy=array([b'p1', b'p2', b'p3'], dtype=object)>"
      ]
     },
     "execution_count": 189,
     "metadata": {},
     "output_type": "execute_result"
    }
   ],
   "source": [
    "params[1:3+1]"
   ]
  },
  {
   "cell_type": "code",
   "execution_count": 190,
   "metadata": {},
   "outputs": [
    {
     "data": {
      "text/plain": [
       "<tf.Tensor: shape=(3,), dtype=string, numpy=array([b'p1', b'p2', b'p3'], dtype=object)>"
      ]
     },
     "execution_count": 190,
     "metadata": {},
     "output_type": "execute_result"
    }
   ],
   "source": [
    "tf.gather(params, [1,2,3])"
   ]
  },
  {
   "cell_type": "code",
   "execution_count": 191,
   "metadata": {},
   "outputs": [
    {
     "data": {
      "text/plain": [
       "<tf.Tensor: shape=(3,), dtype=string, numpy=array([b'p0', b'p5', b'p3'], dtype=object)>"
      ]
     },
     "execution_count": 191,
     "metadata": {},
     "output_type": "execute_result"
    }
   ],
   "source": [
    "tf.gather(params, [0,5,3], axis=0)"
   ]
  },
  {
   "cell_type": "code",
   "execution_count": 192,
   "metadata": {},
   "outputs": [
    {
     "data": {
      "text/plain": [
       "<tf.Tensor: shape=(2, 3), dtype=float32, numpy=\n",
       "array([[30., 31., 32.],\n",
       "       [10., 11., 12.]], dtype=float32)>"
      ]
     },
     "execution_count": 192,
     "metadata": {},
     "output_type": "execute_result"
    }
   ],
   "source": [
    "params = tf.constant([[0, 1.0, 2.0],\n",
    "                      [10.0, 11.0, 12.0],\n",
    "                      [20.0, 21.0, 22.0],\n",
    "                      [30.0, 31.0, 32.0]])\n",
    "tf.gather(params, indices=[3,1])"
   ]
  },
  {
   "cell_type": "code",
   "execution_count": 193,
   "metadata": {},
   "outputs": [
    {
     "data": {
      "text/plain": [
       "<tf.Tensor: shape=(1, 3), dtype=float32, numpy=array([[0., 1., 2.]], dtype=float32)>"
      ]
     },
     "execution_count": 193,
     "metadata": {},
     "output_type": "execute_result"
    }
   ],
   "source": [
    "tf.gather(params, [0], axis = 0)"
   ]
  },
  {
   "cell_type": "code",
   "execution_count": 194,
   "metadata": {},
   "outputs": [
    {
     "data": {
      "text/plain": [
       "<tf.Tensor: shape=(2, 3), dtype=float32, numpy=\n",
       "array([[ 0.,  1.,  2.],\n",
       "       [30., 31., 32.]], dtype=float32)>"
      ]
     },
     "execution_count": 194,
     "metadata": {},
     "output_type": "execute_result"
    }
   ],
   "source": [
    "tf.gather(params, [0,3], axis=0)"
   ]
  },
  {
   "cell_type": "code",
   "execution_count": 195,
   "metadata": {},
   "outputs": [
    {
     "data": {
      "text/plain": [
       "<tf.Tensor: shape=(4, 2), dtype=float32, numpy=\n",
       "array([[ 2.,  1.],\n",
       "       [12., 11.],\n",
       "       [22., 21.],\n",
       "       [32., 31.]], dtype=float32)>"
      ]
     },
     "execution_count": 195,
     "metadata": {},
     "output_type": "execute_result"
    }
   ],
   "source": [
    "tf.gather(params, [2,1], axis=1)"
   ]
  },
  {
   "cell_type": "code",
   "execution_count": 196,
   "metadata": {},
   "outputs": [
    {
     "data": {
      "text/plain": [
       "<tf.Tensor: shape=(4, 2), dtype=float32, numpy=\n",
       "array([[ 0.,  2.],\n",
       "       [10., 12.],\n",
       "       [20., 22.],\n",
       "       [30., 32.]], dtype=float32)>"
      ]
     },
     "execution_count": 196,
     "metadata": {},
     "output_type": "execute_result"
    }
   ],
   "source": [
    "tf.gather(params, [0,2], axis=1)"
   ]
  },
  {
   "cell_type": "code",
   "execution_count": 197,
   "metadata": {},
   "outputs": [
    {
     "data": {
      "text/plain": [
       "<tf.Tensor: shape=(2, 2), dtype=string, numpy=\n",
       "array([[b'a', b'b'],\n",
       "       [b'c', b'd']], dtype=object)>"
      ]
     },
     "execution_count": 197,
     "metadata": {},
     "output_type": "execute_result"
    }
   ],
   "source": [
    "indices=[[0],\n",
    "        [1]]\n",
    "\n",
    "params = [['a', 'b'],\n",
    "        ['c', 'd']]\n",
    "\n",
    "# Use tf.gather_nd to extract the rows\n",
    "tf.gather_nd(params, indices)"
   ]
  },
  {
   "cell_type": "code",
   "execution_count": 198,
   "metadata": {},
   "outputs": [
    {
     "data": {
      "text/plain": [
       "<tf.Tensor: shape=(1, 2), dtype=string, numpy=array([[b'a', b'b']], dtype=object)>"
      ]
     },
     "execution_count": 198,
     "metadata": {},
     "output_type": "execute_result"
    }
   ],
   "source": [
    "indices=[[0]]\n",
    "\n",
    "params = [['a', 'b'],\n",
    "        ['c', 'd']]\n",
    "\n",
    "tf.gather_nd(params, indices)"
   ]
  },
  {
   "cell_type": "code",
   "execution_count": 199,
   "metadata": {},
   "outputs": [
    {
     "data": {
      "text/plain": [
       "<tf.Tensor: shape=(1,), dtype=string, numpy=array([b'f'], dtype=object)>"
      ]
     },
     "execution_count": 199,
     "metadata": {},
     "output_type": "execute_result"
    }
   ],
   "source": [
    "indices=[[2,1]]\n",
    "\n",
    "params = [['a', 'b'],\n",
    "        ['c', 'd'],\n",
    "        ['e', 'f']]\n",
    "\n",
    "tf.gather_nd(params, indices)"
   ]
  },
  {
   "cell_type": "code",
   "execution_count": 200,
   "metadata": {},
   "outputs": [
    {
     "data": {
      "text/plain": [
       "<tf.Tensor: shape=(1, 2, 2), dtype=string, numpy=\n",
       "array([[[b'c0', b'd0'],\n",
       "        [b'a1', b'b1']]], dtype=object)>"
      ]
     },
     "execution_count": 200,
     "metadata": {},
     "output_type": "execute_result"
    }
   ],
   "source": [
    "indices = [[0, 1], [1, 0]],\n",
    "params = [[['a0', 'b0'],\n",
    "            ['c0', 'd0']],\n",
    "\n",
    "        [['a1', 'b1'],\n",
    "          ['c1', 'd1']]]\n",
    "\n",
    "tf.gather_nd(params, indices)"
   ]
  },
  {
   "cell_type": "markdown",
   "metadata": {},
   "source": [
    "### Ragged Tensor"
   ]
  },
  {
   "cell_type": "code",
   "execution_count": 201,
   "metadata": {},
   "outputs": [
    {
     "name": "stdout",
     "output_type": "stream",
     "text": [
      "(4, 3)\n",
      "tf.Tensor(\n",
      "[[ 1  2  0]\n",
      " [ 3  5 -1]\n",
      " [ 1  5  6]\n",
      " [ 2  3  8]], shape=(4, 3), dtype=int32)\n"
     ]
    }
   ],
   "source": [
    "tensor_two_d = tf.constant([[1,2,0],\n",
    "                            [3,5,-1],\n",
    "                            [1,5,6],\n",
    "                            [2,3,8]])\n",
    "\n",
    "print(tensor_two_d.shape)\n",
    "print(tensor_two_d)"
   ]
  },
  {
   "cell_type": "code",
   "execution_count": 202,
   "metadata": {},
   "outputs": [
    {
     "name": "stdout",
     "output_type": "stream",
     "text": [
      "<tf.RaggedTensor [[1, 2, 0], [3], [1, 5, 6, 5, 6], [2, 3]]>\n"
     ]
    }
   ],
   "source": [
    "# Create a ragged tensor from a nested list with varying lengths\n",
    "tensor_two_d = [[1,2,0],\n",
    "                [3,],\n",
    "                [1,5,6,5,6],\n",
    "                [2,3]]\n",
    "\n",
    "tensor_ragged = tf.ragged.constant(tensor_two_d)\n",
    "print(tensor_ragged)"
   ]
  },
  {
   "cell_type": "code",
   "execution_count": 203,
   "metadata": {},
   "outputs": [
    {
     "name": "stdout",
     "output_type": "stream",
     "text": [
      "<tf.RaggedTensor [[3, 1, 4, 1], [], [5, 9, 2], [6], []]>\n"
     ]
    }
   ],
   "source": [
    "print(tf.RaggedTensor.from_row_limits(\n",
    "    values=[3, 1, 4, 1, 5, 9, 2, 6],\n",
    "    row_limits=[4, 4, 7, 8, 8]))"
   ]
  },
  {
   "cell_type": "markdown",
   "metadata": {},
   "source": [
    "### SparseTensor"
   ]
  },
  {
   "cell_type": "code",
   "execution_count": 205,
   "metadata": {},
   "outputs": [
    {
     "name": "stdout",
     "output_type": "stream",
     "text": [
      "SparseTensor(indices=tf.Tensor(\n",
      "[[1 1]\n",
      " [3 4]], shape=(2, 2), dtype=int64), values=tf.Tensor([11 56], shape=(2,), dtype=int32), dense_shape=tf.Tensor([5 6], shape=(2,), dtype=int64))\n"
     ]
    }
   ],
   "source": [
    "tensor_spare = tf.sparse.SparseTensor(\n",
    "    indices=[[1, 1], [3, 4]], values=[11, 56], dense_shape=[5, 6])\n",
    "print(tensor_spare)"
   ]
  },
  {
   "cell_type": "code",
   "execution_count": 206,
   "metadata": {},
   "outputs": [
    {
     "data": {
      "text/plain": [
       "<tf.Tensor: shape=(5, 6), dtype=int32, numpy=\n",
       "array([[ 0,  0,  0,  0,  0,  0],\n",
       "       [ 0, 11,  0,  0,  0,  0],\n",
       "       [ 0,  0,  0,  0,  0,  0],\n",
       "       [ 0,  0,  0,  0, 56,  0],\n",
       "       [ 0,  0,  0,  0,  0,  0]])>"
      ]
     },
     "execution_count": 206,
     "metadata": {},
     "output_type": "execute_result"
    }
   ],
   "source": [
    "tf.sparse.to_dense(tensor_spare)"
   ]
  },
  {
   "cell_type": "markdown",
   "metadata": {},
   "source": [
    "### String Tensor"
   ]
  },
  {
   "cell_type": "code",
   "execution_count": 207,
   "metadata": {},
   "outputs": [
    {
     "name": "stdout",
     "output_type": "stream",
     "text": [
      "tf.Tensor([b'hello' b'i am' b'a string'], shape=(3,), dtype=string)\n"
     ]
    }
   ],
   "source": [
    "tensor_string = tf.constant([\"hello\", \"i am\", \"a string\"])\n",
    "print(tensor_string)"
   ]
  },
  {
   "cell_type": "code",
   "execution_count": 210,
   "metadata": {},
   "outputs": [
    {
     "data": {
      "text/plain": [
       "<tf.Tensor: shape=(), dtype=string, numpy=b'hello i am a string'>"
      ]
     },
     "execution_count": 210,
     "metadata": {},
     "output_type": "execute_result"
    }
   ],
   "source": [
    "# join is use to join the string\n",
    "tf.strings.join(tensor_string, separator=\" \")"
   ]
  },
  {
   "cell_type": "code",
   "execution_count": 211,
   "metadata": {},
   "outputs": [
    {
     "data": {
      "text/plain": [
       "<tf.Tensor: shape=(3,), dtype=int32, numpy=array([ 5, 10,  4])>"
      ]
     },
     "execution_count": 211,
     "metadata": {},
     "output_type": "execute_result"
    }
   ],
   "source": [
    "# length is use to get the length of the string\n",
    "strings = tf.constant(['Hello','TensorFlow', '\\U0001F642'])\n",
    "tf.strings.length(strings)"
   ]
  },
  {
   "cell_type": "markdown",
   "metadata": {},
   "source": [
    "### variable"
   ]
  },
  {
   "cell_type": "code",
   "execution_count": 215,
   "metadata": {},
   "outputs": [],
   "source": [
    "x = tf.constant([1, 2])"
   ]
  },
  {
   "cell_type": "code",
   "execution_count": 216,
   "metadata": {},
   "outputs": [
    {
     "name": "stdout",
     "output_type": "stream",
     "text": [
      "<tf.Variable 'var1:0' shape=(2,) dtype=int32, numpy=array([1, 2])>\n"
     ]
    }
   ],
   "source": [
    "x_var = tf.Variable(x, name = 'var1')\n",
    "print(x_var)"
   ]
  },
  {
   "cell_type": "code",
   "execution_count": 218,
   "metadata": {},
   "outputs": [
    {
     "data": {
      "text/plain": [
       "<tf.Variable 'UnreadVariable' shape=(2,) dtype=int32, numpy=array([-5, -8])>"
      ]
     },
     "execution_count": 218,
     "metadata": {},
     "output_type": "execute_result"
    }
   ],
   "source": [
    "x_var.assign_sub([3,6])"
   ]
  },
  {
   "cell_type": "code",
   "execution_count": 225,
   "metadata": {},
   "outputs": [
    {
     "name": "stdout",
     "output_type": "stream",
     "text": [
      "/job:localhost/replica:0/task:0/device:CPU:0\n",
      "/job:localhost/replica:0/task:0/device:CPU:0\n"
     ]
    }
   ],
   "source": [
    "with tf.device('GPU:0'):\n",
    "    x_var = tf.Variable(0.2)\n",
    "\n",
    "with tf.device('CPU:0'):\n",
    "    x_tensor = tf.Variable(0.2)\n",
    "\n",
    "print(x_var.device)\n",
    "print(x_tensor.device)"
   ]
  },
  {
   "cell_type": "code",
   "execution_count": 229,
   "metadata": {},
   "outputs": [
    {
     "name": "stdout",
     "output_type": "stream",
     "text": [
      "tf.Tensor([1 3 4], shape=(3,), dtype=int32) /job:localhost/replica:0/task:0/device:CPU:0\n",
      "tf.Tensor([1], shape=(1,), dtype=int32) /job:localhost/replica:0/task:0/device:CPU:0\n",
      "tf.Tensor([2 4 5], shape=(3,), dtype=int32) /job:localhost/replica:0/task:0/device:CPU:0\n"
     ]
    }
   ],
   "source": [
    "with tf.device('CPU:0'):\n",
    "    x_1 = tf.constant([1,3,4])\n",
    "    x_2 = tf.constant([1])\n",
    "\n",
    "with tf.device('GPU:0'):\n",
    "    x_3 = x_1 + x_2\n",
    "    \n",
    "print(x_1, x_1.device)\n",
    "print(x_2, x_2.device)\n",
    "print(x_3, x_3.device)"
   ]
  },
  {
   "cell_type": "code",
   "execution_count": null,
   "metadata": {},
   "outputs": [],
   "source": []
  }
 ],
 "metadata": {
  "kernelspec": {
   "display_name": "Python 3",
   "language": "python",
   "name": "python3"
  },
  "language_info": {
   "codemirror_mode": {
    "name": "ipython",
    "version": 3
   },
   "file_extension": ".py",
   "mimetype": "text/x-python",
   "name": "python",
   "nbconvert_exporter": "python",
   "pygments_lexer": "ipython3",
   "version": "3.11.9"
  }
 },
 "nbformat": 4,
 "nbformat_minor": 2
}
