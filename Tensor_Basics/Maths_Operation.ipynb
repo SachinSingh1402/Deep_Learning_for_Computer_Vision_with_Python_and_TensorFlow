{
 "cells": [
  {
   "cell_type": "code",
   "execution_count": 31,
   "metadata": {},
   "outputs": [],
   "source": [
    "import tensorflow as tf\n",
    "import numpy as np"
   ]
  },
  {
   "cell_type": "markdown",
   "metadata": {},
   "source": [
    "### Absolute value\n"
   ]
  },
  {
   "cell_type": "code",
   "execution_count": 32,
   "metadata": {},
   "outputs": [
    {
     "data": {
      "text/plain": [
       "<tf.Tensor: shape=(2,), dtype=float32, numpy=array([2.6, 8.1], dtype=float32)>"
      ]
     },
     "execution_count": 32,
     "metadata": {},
     "output_type": "execute_result"
    }
   ],
   "source": [
    "# This function did't convert your actual tensor to absolute value bhut it convert so you can use it in other verable or other function\n",
    "# Your original variable remain unchanges\n",
    "x_abs = tf.constant([-2.6,8.1])\n",
    "\n",
    "tf.abs(x_abs)"
   ]
  },
  {
   "cell_type": "code",
   "execution_count": 33,
   "metadata": {},
   "outputs": [
    {
     "data": {
      "text/plain": [
       "<tf.Tensor: shape=(1,), dtype=float64, numpy=array([5.25594901])>"
      ]
     },
     "execution_count": 33,
     "metadata": {},
     "output_type": "execute_result"
    }
   ],
   "source": [
    "x_abs_complex = tf.constant([-2.25 + 4.75j])\n",
    "tf.abs(x_abs_complex)"
   ]
  },
  {
   "cell_type": "code",
   "execution_count": 34,
   "metadata": {},
   "outputs": [
    {
     "data": {
      "text/plain": [
       "<tf.Tensor: shape=(), dtype=float32, numpy=5.255949>"
      ]
     },
     "execution_count": 34,
     "metadata": {},
     "output_type": "execute_result"
    }
   ],
   "source": [
    "tf.sqrt((-2.25)**2 + 4.75**2)"
   ]
  },
  {
   "cell_type": "markdown",
   "metadata": {},
   "source": [
    "### Elementwise addition , division , substraction"
   ]
  },
  {
   "cell_type": "code",
   "execution_count": 35,
   "metadata": {},
   "outputs": [
    {
     "name": "stdout",
     "output_type": "stream",
     "text": [
      "tf.Tensor([14 14 14 14 14], shape=(5,), dtype=int32)\n",
      "tf.Tensor([ 4  2  0 -2 -4], shape=(5,), dtype=int32)\n",
      "tf.Tensor([1.8        1.33333333 1.         0.75       0.55555556], shape=(5,), dtype=float64)\n",
      "tf.Tensor([1.8        1.33333333 1.         0.75       0.55555556], shape=(5,), dtype=float64)\n"
     ]
    }
   ],
   "source": [
    "# The shape and type of the tensor should be same for mathematical operations\n",
    "\n",
    "x_1 = tf.constant([9,8,7,6,5])\n",
    "x_2 = tf.constant([5,6,7,8,9])\n",
    "\n",
    "add = print(tf.math.add(x_1,x_2))\n",
    "\n",
    "sub = print(tf.math.subtract(x_1,x_2))\n",
    "\n",
    "div = print(tf.math.divide(x_1,x_2))\n",
    "\n",
    "print(tf.math.divide_no_nan(x_1,x_2))"
   ]
  },
  {
   "cell_type": "markdown",
   "metadata": {},
   "source": [
    "### Method is used to find the maximum value across the axes"
   ]
  },
  {
   "cell_type": "code",
   "execution_count": 36,
   "metadata": {},
   "outputs": [
    {
     "name": "stdout",
     "output_type": "stream",
     "text": [
      "tf.Tensor([ 2  3 56 76 33], shape=(5,), dtype=int32)\n",
      "tf.Tensor(3, shape=(), dtype=int64)\n"
     ]
    }
   ],
   "source": [
    "# 1D tensor:\n",
    "\n",
    "x_argmax = tf.constant([2,3,56,76,33])\n",
    "\n",
    "print(x_argmax)\n",
    "\n",
    "print(tf.math.argmax(x_argmax))   # this is the output shows the position of the max value"
   ]
  },
  {
   "cell_type": "code",
   "execution_count": 37,
   "metadata": {},
   "outputs": [
    {
     "name": "stdout",
     "output_type": "stream",
     "text": [
      "tf.Tensor(\n",
      "[[77 54 93]\n",
      " [14 55 60]\n",
      " [40 35 17]], shape=(3, 3), dtype=int32)\n",
      "tf.Tensor([0 1 0], shape=(3,), dtype=int64)\n"
     ]
    }
   ],
   "source": [
    "# 2D tensor\n",
    "\n",
    "y_argmax = tf.constant([[77,54,93],[14,55,60],[40,35,17]])\n",
    "\n",
    "print(y_argmax)\n",
    "\n",
    "print(tf.math.argmax(y_argmax,0)) # 0 is the rows 1 is the column axis  \n",
    "\n",
    "# AXIS 0 vvvvvv (default) \n",
    "\n",
    "# AXIS 1 >>>>>"
   ]
  },
  {
   "cell_type": "markdown",
   "metadata": {},
   "source": [
    "### Elementwise equal Checker\n",
    "\n",
    "Returns the truth value of (x == y) element-wise.\n",
    "\n",
    "Should be of same shape"
   ]
  },
  {
   "cell_type": "code",
   "execution_count": 38,
   "metadata": {},
   "outputs": [
    {
     "name": "stdout",
     "output_type": "stream",
     "text": [
      "tf.Tensor([ True  True  True  True], shape=(4,), dtype=bool)\n"
     ]
    }
   ],
   "source": [
    "X_equal = tf.constant([1,2,3,4])\n",
    "Y_equal = tf.constant([1,2,3,4])\n",
    "\n",
    "print(tf.math.equal(X_equal,Y_equal))"
   ]
  },
  {
   "cell_type": "markdown",
   "metadata": {},
   "source": [
    "### The power of one value to another"
   ]
  },
  {
   "cell_type": "code",
   "execution_count": 39,
   "metadata": {},
   "outputs": [
    {
     "data": {
      "text/plain": [
       "<tf.Tensor: shape=(2, 2), dtype=int32, numpy=\n",
       "array([[  256, 65536],\n",
       "       [    9,    27]])>"
      ]
     },
     "execution_count": 39,
     "metadata": {},
     "output_type": "execute_result"
    }
   ],
   "source": [
    "x = tf.constant([[2, 2], [3, 3]])\n",
    "y = tf.constant([[8, 16], [2, 3]])\n",
    "tf.pow(x, y)"
   ]
  },
  {
   "cell_type": "markdown",
   "metadata": {},
   "source": [
    "### Reduce Sum"
   ]
  },
  {
   "cell_type": "code",
   "execution_count": 40,
   "metadata": {},
   "outputs": [
    {
     "name": "stdout",
     "output_type": "stream",
     "text": [
      "Sum of all elements: tf.Tensor(45, shape=(), dtype=int32)\n",
      "Sum along axis 0 (vertical): tf.Tensor([12 15 18], shape=(3,), dtype=int32)\n",
      "Sum along axis 1 (horizontal): tf.Tensor([ 6 15 24], shape=(3,), dtype=int32)\n"
     ]
    }
   ],
   "source": [
    "# Example Tensor (2D Tensor)\n",
    "tensor = tf.constant([\n",
    "    [1, 2, 3],\n",
    "    [4, 5, 6],\n",
    "    [7, 8, 9]\n",
    "])\n",
    "\n",
    "# Sum of all elements (axis=None)\n",
    "total_sum = tf.reduce_sum(tensor, axis=None)\n",
    "print(\"Sum of all elements:\", total_sum)\n",
    "\n",
    "# Sum along axis 0 (vertically across rows)\n",
    "sum_axis_0 = tf.reduce_sum(tensor, axis=0)\n",
    "print(\"Sum along axis 0 (vertical):\", sum_axis_0)\n",
    "\n",
    "# Sum along axis 1 (horizontally across columns)\n",
    "sum_axis_1 = tf.reduce_sum(tensor, axis=1)\n",
    "print(\"Sum along axis 1 (horizontal):\", sum_axis_1)\n"
   ]
  },
  {
   "cell_type": "code",
   "execution_count": 41,
   "metadata": {},
   "outputs": [
    {
     "name": "stdout",
     "output_type": "stream",
     "text": [
      "tf.Tensor(\n",
      "[[ 2  4 53]\n",
      " [ 4  5  6]\n",
      " [ 4  5  7]], shape=(3, 3), dtype=int32)\n",
      "tf.Tensor([10 14 66], shape=(3,), dtype=int32)\n"
     ]
    }
   ],
   "source": [
    "y = tf.constant([[2,4,53],[4,5,6],[4,5,7]])\n",
    "print(y)\n",
    "\n",
    "\n",
    "print(tf.math.reduce_sum(\n",
    "    y, axis=0, keepdims=False, name=None\n",
    "))"
   ]
  },
  {
   "cell_type": "markdown",
   "metadata": {},
   "source": [
    "### Reduce Mean\n",
    "\n",
    "the mean of elements across dimensions of a tensor.\n",
    "\n",
    "It Basically give mean on the basisi of axis"
   ]
  },
  {
   "cell_type": "code",
   "execution_count": 42,
   "metadata": {},
   "outputs": [
    {
     "name": "stdout",
     "output_type": "stream",
     "text": [
      "Mean of all elements: tf.Tensor(5, shape=(), dtype=int32)\n",
      "Mean along axis 0 (vertical): tf.Tensor([4 5 6], shape=(3,), dtype=int32)\n",
      "Mean along axis 1 (horizontal): tf.Tensor([2 5 8], shape=(3,), dtype=int32)\n"
     ]
    }
   ],
   "source": [
    "tensor = tf.constant([\n",
    "    [1, 2, 3],\n",
    "    [4, 5, 6],\n",
    "    [7, 8, 9]\n",
    "])\n",
    "\n",
    "# Mean of all elements (axis=None)\n",
    "mean_all = tf.reduce_mean(tensor, axis=None)\n",
    "print(\"Mean of all elements:\", mean_all)\n",
    "\n",
    "# Mean along axis 0 (vertically across rows)\n",
    "mean_axis_0 = tf.reduce_mean(tensor, axis=0)\n",
    "print(\"Mean along axis 0 (vertical):\", mean_axis_0)\n",
    "\n",
    "# Mean along axis 1 (horizontally across columns)\n",
    "mean_axis_1 = tf.reduce_mean(tensor, axis=1)\n",
    "print(\"Mean along axis 1 (horizontal):\", mean_axis_1)"
   ]
  },
  {
   "cell_type": "code",
   "execution_count": 43,
   "metadata": {},
   "outputs": [
    {
     "name": "stdout",
     "output_type": "stream",
     "text": [
      "tf.Tensor(\n",
      "[[ 2  4 53]\n",
      " [ 4  5  6]\n",
      " [ 4  5  7]], shape=(3, 3), dtype=int32)\n",
      "tf.Tensor([10 14 66], shape=(3,), dtype=int32)\n"
     ]
    }
   ],
   "source": [
    "y = tf.constant([[2,4,53],[4,5,6],[4,5,7]])\n",
    "print(y)\n",
    "\n",
    "\n",
    "print(tf.math.reduce_sum(\n",
    "    y, axis=0, keepdims=False, name=None\n",
    "))"
   ]
  },
  {
   "cell_type": "markdown",
   "metadata": {},
   "source": [
    "### Standard deviation\n",
    "\n",
    "Computes the standard deviation of elements across dimensions of a tensor."
   ]
  },
  {
   "cell_type": "code",
   "execution_count": 44,
   "metadata": {},
   "outputs": [
    {
     "name": "stdout",
     "output_type": "stream",
     "text": [
      "Standard deviation of all elements: tf.Tensor(2.5819888, shape=(), dtype=float32)\n",
      "Standard deviation along axis 0 (vertical): tf.Tensor([2.4494898 2.4494898 2.4494898], shape=(3,), dtype=float32)\n",
      "Standard deviation along axis 1 (horizontal): tf.Tensor([0.8164966 0.8164966 0.8164966], shape=(3,), dtype=float32)\n"
     ]
    }
   ],
   "source": [
    "tensor = tf.constant([\n",
    "    [1, 2, 3],\n",
    "    [4, 5, 6],\n",
    "    [7, 8, 9]\n",
    "], dtype=tf.float32)\n",
    "\n",
    "# Standard deviation of all elements (axis=None)\n",
    "std_all = tf.math.reduce_std(tensor, axis=None)\n",
    "print(\"Standard deviation of all elements:\", std_all)\n",
    "\n",
    "# Standard deviation along axis 0 (vertically across rows)\n",
    "std_axis_0 = tf.math.reduce_std(tensor, axis=0)\n",
    "print(\"Standard deviation along axis 0 (vertical):\", std_axis_0)\n",
    "\n",
    "# Standard deviation along axis 1 (horizontally across columns)\n",
    "std_axis_1 = tf.math.reduce_std(tensor, axis=1)\n",
    "print(\"Standard deviation along axis 1 (horizontal):\", std_axis_1)\n"
   ]
  },
  {
   "cell_type": "code",
   "execution_count": 45,
   "metadata": {},
   "outputs": [
    {
     "name": "stdout",
     "output_type": "stream",
     "text": [
      "tf.Tensor(\n",
      "[[ 2.  4. 53.]\n",
      " [ 4.  5.  6.]\n",
      " [ 4.  5.  7.]], shape=(3, 3), dtype=float32)\n",
      "tf.Tensor(15.260697, shape=(), dtype=float32)\n"
     ]
    }
   ],
   "source": [
    "y = tf.constant([[2,4,53],[4,5,6],[4,5,7]],dtype=tf.float32)\n",
    "print(y)\n",
    "\n",
    "print(tf.math.reduce_std(\n",
    "    y, axis=None, keepdims=False, name=None\n",
    "))"
   ]
  },
  {
   "cell_type": "markdown",
   "metadata": {},
   "source": [
    "### TOP Function\n",
    "\n",
    "Finds values and indices of the k largest entries for the last dimension.\n",
    "\n",
    "This function go to each and every Row and find top_k values"
   ]
  },
  {
   "cell_type": "code",
   "execution_count": 46,
   "metadata": {},
   "outputs": [
    {
     "name": "stdout",
     "output_type": "stream",
     "text": [
      "Top 3 values: tf.Tensor([9 8 7], shape=(3,), dtype=int32)\n",
      "Indices of top 3 values: tf.Tensor([4 6 3], shape=(3,), dtype=int32)\n"
     ]
    }
   ],
   "source": [
    "tensor = tf.constant([1, 3, 5, 7, 9, 2, 8, 6, 4, 0])\n",
    "\n",
    "# Find the top 3 largest elements\n",
    "top_k_values, top_k_indices = tf.math.top_k(tensor, k=3)\n",
    "\n",
    "print(\"Top 3 values:\", top_k_values)  # Output: [9 8 7]\n",
    "print(\"Indices of top 3 values:\", top_k_indices)  # Output: [4 6 3]\n"
   ]
  },
  {
   "cell_type": "code",
   "execution_count": 47,
   "metadata": {},
   "outputs": [
    {
     "name": "stdout",
     "output_type": "stream",
     "text": [
      "tf.Tensor(\n",
      "[[ 2.  4. 53.]\n",
      " [ 4.  5.  6.]\n",
      " [ 4.  5.  7.]], shape=(3, 3), dtype=float32)\n",
      "TopKV2(values=<tf.Tensor: shape=(3, 1), dtype=float32, numpy=\n",
      "array([[53.],\n",
      "       [ 6.],\n",
      "       [ 7.]], dtype=float32)>, indices=<tf.Tensor: shape=(3, 1), dtype=int32, numpy=\n",
      "array([[2],\n",
      "       [2],\n",
      "       [2]])>)\n"
     ]
    }
   ],
   "source": [
    "# The second array in the output is the index of the top k value\n",
    "\n",
    "y = tf.constant([[2,4,53],[4,5,6],[4,5,7]],dtype=tf.float32)\n",
    "print(y)\n",
    "\n",
    "print(tf.math.top_k(\n",
    "    y,\n",
    "    k=1,\n",
    "    sorted=True,\n",
    "    index_type=tf.dtypes.int32,\n",
    "    name=None\n",
    "))\n"
   ]
  },
  {
   "cell_type": "code",
   "execution_count": null,
   "metadata": {},
   "outputs": [],
   "source": []
  }
 ],
 "metadata": {
  "kernelspec": {
   "display_name": "Python 3",
   "language": "python",
   "name": "python3"
  },
  "language_info": {
   "codemirror_mode": {
    "name": "ipython",
    "version": 3
   },
   "file_extension": ".py",
   "mimetype": "text/x-python",
   "name": "python",
   "nbconvert_exporter": "python",
   "pygments_lexer": "ipython3",
   "version": "3.11.9"
  }
 },
 "nbformat": 4,
 "nbformat_minor": 2
}
